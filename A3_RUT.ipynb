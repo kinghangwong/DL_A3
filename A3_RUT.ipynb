{
 "cells": [
  {
   "cell_type": "code",
   "execution_count": 33,
   "metadata": {},
   "outputs": [],
   "source": [
    "import numpy as np\n",
    "import pandas as pd\n",
    "import matplotlib.pyplot as plt\n",
    "import torch #pytorch\n",
    "import torch.nn as nn\n",
    "from torch.autograd import Variable\n",
    "from helper_functions import *"
   ]
  },
  {
   "cell_type": "markdown",
   "metadata": {},
   "source": [
    "# Benchmarking:\n",
    "\n",
    "January 2, 1991 to April 30, 2018\n",
    "\n",
    "- DJIA  \n",
    "* First 4500 days is training\n",
    "* Next 1300 days is validation\n",
    "* The rest is testing"
   ]
  },
  {
   "cell_type": "code",
   "execution_count": 34,
   "metadata": {},
   "outputs": [],
   "source": [
    "####### EXPERIMENT DEPENDENT\n",
    "WINDOW_SIZE = 20  # SAME AS ZHANG ET AL.\n",
    "\n",
    "####### DO NOT CHANGE BELOW\n",
    "TRAIN_END = 4500\n",
    "VAL_END = 4500 + 1300\n",
    "SEQ_LEN = WINDOW_SIZE\n"
   ]
  },
  {
   "cell_type": "markdown",
   "metadata": {},
   "source": [
    "## DJIA"
   ]
  },
  {
   "cell_type": "code",
   "execution_count": 35,
   "metadata": {},
   "outputs": [
    {
     "name": "stdout",
     "output_type": "stream",
     "text": [
      "6884\n"
     ]
    }
   ],
   "source": [
    "PATH = \"^RUT1991_2018.csv\"\n",
    "df = pd.read_csv(PATH, index_col = 'Date', parse_dates=True)\n",
    "df.head(5) ; print(len(df))"
   ]
  },
  {
   "cell_type": "markdown",
   "metadata": {},
   "source": [
    "### **Modify all input columns into residual**\n",
    "\n",
    "**Use previous day columns (including closing price) to predict next day results**"
   ]
  },
  {
   "cell_type": "code",
   "execution_count": 36,
   "metadata": {},
   "outputs": [
    {
     "name": "stdout",
     "output_type": "stream",
     "text": [
      "6884\n",
      "(6883, 6)\n",
      "(6883,)\n",
      "6882 6882\n",
      "(6882, 6) (6882,)\n"
     ]
    }
   ],
   "source": [
    "print(len(df))\n",
    "X = apply_residual_change(df); print(X.shape);\n",
    "y = apply_residual_change(df['Close']); print(y.shape)\n",
    "\n",
    "X, y = build_base_X_y_difference(X, y); print(X.shape, y.shape)\n",
    "\n",
    "y = y.reshape(-1, 1)\n",
    "\n",
    "assert X.shape[0] == len(df)-2, \"ERROR: SOME OPERATION ERROR DURING DATA ENGINEERING\"\n",
    "assert X.shape[0] == y.shape[0], \"ERROR : X AND y HAVE DIFFERENT LEN\"\n",
    "\n",
    "USABLE_DATA_LEN = X.shape[0]"
   ]
  },
  {
   "cell_type": "markdown",
   "metadata": {},
   "source": [
    "Transform the data to between 0 - 1 so the network converges faster"
   ]
  },
  {
   "cell_type": "code",
   "execution_count": 37,
   "metadata": {},
   "outputs": [],
   "source": [
    "from sklearn.preprocessing import StandardScaler, MinMaxScaler\n",
    "mm = MinMaxScaler()     # minMax on the y for quicker learning. More suitable than SS\n",
    "\n",
    "X_mm = mm.fit_transform(X)\n",
    "y_mm = mm.fit_transform(y) "
   ]
  },
  {
   "cell_type": "markdown",
   "metadata": {},
   "source": [
    "##### Train_val_test"
   ]
  },
  {
   "cell_type": "code",
   "execution_count": 38,
   "metadata": {},
   "outputs": [],
   "source": [
    "X_train_tensors_final, X_val_tensors_final, X_test_tensors_final, \\\n",
    "    y_train_tensors, y_val_tensors, y_test_tensors = create_datatensors(X_mm, y_mm)"
   ]
  },
  {
   "cell_type": "code",
   "execution_count": 39,
   "metadata": {},
   "outputs": [
    {
     "name": "stdout",
     "output_type": "stream",
     "text": [
      "Training Shape torch.Size([4500, 20, 6]) torch.Size([4500, 1])\n",
      "Testing Shape torch.Size([1300, 20, 6]) torch.Size([1300, 1])\n",
      "Testing Shape torch.Size([1062, 20, 6]) torch.Size([1062, 1])\n"
     ]
    }
   ],
   "source": [
    "print(\"Training Shape\", X_train_tensors_final.shape, y_train_tensors.shape)\n",
    "print(\"Testing Shape\", X_val_tensors_final.shape, y_val_tensors.shape)\n",
    "print(\"Testing Shape\", X_test_tensors_final.shape, y_test_tensors.shape)"
   ]
  },
  {
   "cell_type": "code",
   "execution_count": 40,
   "metadata": {},
   "outputs": [],
   "source": [
    "a = len(X_test_tensors_final) + len(X_train_tensors_final) + len(X_val_tensors_final)\n",
    "b = len(y_test_tensors) + len(y_train_tensors) + len(y_val_tensors)\n",
    "assert a == b, \"X AND Y UNEQUAL LEN\"\n",
    "\n",
    "USABLE_DATA_LEN =  len(X_test_tensors_final) + len(X_train_tensors_final) + len(X_val_tensors_final)"
   ]
  },
  {
   "cell_type": "markdown",
   "metadata": {},
   "source": [
    "#### GridSearch"
   ]
  },
  {
   "cell_type": "code",
   "execution_count": 41,
   "metadata": {},
   "outputs": [
    {
     "name": "stdout",
     "output_type": "stream",
     "text": [
      "#-------------------------\n",
      "Now running model: Hidden-size 5,  lookback 1\n"
     ]
    },
    {
     "name": "stdout",
     "output_type": "stream",
     "text": [
      "Early stopping at epoch 12 with validation loss: 0.0099575201719545\n",
      "#-------------------------\n",
      "Now running model: Hidden-size 15,  lookback 1\n",
      "Early stopping at epoch 12 with validation loss: 0.009971946330241314\n",
      "#-------------------------\n",
      "Now running model: Hidden-size 30,  lookback 1\n",
      "Early stopping at epoch 11 with validation loss: 0.00999039089557056\n",
      "#-------------------------\n",
      "Now running model: Hidden-size 5,  lookback 5\n",
      "Early stopping at epoch 23 with validation loss: 0.00997125509581188\n",
      "#-------------------------\n",
      "Now running model: Hidden-size 15,  lookback 5\n",
      "Early stopping at epoch 11 with validation loss: 0.00998840416872465\n",
      "#-------------------------\n",
      "Now running model: Hidden-size 30,  lookback 5\n",
      "Early stopping at epoch 13 with validation loss: 0.009997150525677859\n",
      "#-------------------------\n",
      "Now running model: Hidden-size 5,  lookback 10\n",
      "Early stopping at epoch 16 with validation loss: 0.010058379385665787\n",
      "#-------------------------\n",
      "Now running model: Hidden-size 15,  lookback 10\n",
      "Early stopping at epoch 11 with validation loss: 0.010105971337818518\n",
      "#-------------------------\n",
      "Now running model: Hidden-size 30,  lookback 10\n",
      "Early stopping at epoch 11 with validation loss: 0.010242217810960805\n"
     ]
    }
   ],
   "source": [
    "model_params = {\n",
    "        'input_size': 6,\n",
    "        'num_layers': 1,\n",
    "        'num_classes': 1,\n",
    "        'criterion': torch.nn.MSELoss(),\n",
    "        'learning_rate': 0.001,\n",
    "        'hidden_sizes': [5, 15, 30],\n",
    "        'lookback': [1, 5, 10],\n",
    "        'sequence_len': 20\n",
    "    }\n",
    "\n",
    "model = 'lstm'\n",
    "\n",
    "best_params, best_historical_losses, best_val_loss, \\\n",
    "                        best_model, historical_losses = grid_search_model(X_mm, y_mm, model, **model_params)\n",
    "\n",
    "lstm_dict = {\n",
    "    'best_params': best_params,\n",
    "    'best_historical_losses': best_historical_losses,\n",
    "    'best_val_loss': best_val_loss,\n",
    "    'best_model': best_model,\n",
    "    'historical_losses': historical_losses,\n",
    "}"
   ]
  },
  {
   "cell_type": "markdown",
   "metadata": {},
   "source": [
    "##### Inverse compute Price Graph"
   ]
  },
  {
   "cell_type": "markdown",
   "metadata": {},
   "source": [
    "How to compute?\n",
    "\n",
    "Since we will **always** have access to the figures from yesterday, it means we will multiply the previous day 'Close' price with the predicted ratio."
   ]
  },
  {
   "cell_type": "code",
   "execution_count": 42,
   "metadata": {},
   "outputs": [],
   "source": [
    "# Create Dicts to store results\n",
    "days_1 = dict()\n",
    "days_3 = dict()\n",
    "days_7 = dict()"
   ]
  },
  {
   "cell_type": "code",
   "execution_count": 43,
   "metadata": {},
   "outputs": [
    {
     "name": "stdout",
     "output_type": "stream",
     "text": [
      "NN model is :  lstm\n",
      "\n",
      "#-------------------------------\n",
      "Comparison between the groundtruth and our predictions\n",
      "MSE: 155.496030\n",
      "MAE: 9.619382\n",
      "RMSE: 12.469805\n",
      "MAPE: 13.000086\n",
      "\n",
      "#-------------------------------\n",
      "Comparison between groundtruth and the shifted y_array\n",
      "MSE: 155.946882\n",
      "MAE: 9.609144\n",
      "RMSE: 12.487869\n",
      "MAPE: 0.775451\n"
     ]
    }
   ],
   "source": [
    "result, value_y_test, y_groundtruth, _ = create_test_arrays(X_test_tensors_final, df, best_model, mm)\n",
    "\n",
    "print(\"NN model is : \", model)\n",
    "print('\\n#-------------------------------')\n",
    "print('Comparison between the groundtruth and our predictions')\n",
    "(mse, mae, rmse, mape) = compute_metrics(y_groundtruth, result)\n",
    "days_1[str(model)] = (mse, mae, rmse, mape)\n",
    "\n",
    "print('\\n#-------------------------------')\n",
    "print('Comparison between groundtruth and the shifted y_array')\n",
    "_ = compute_metrics(y_groundtruth, value_y_test)"
   ]
  },
  {
   "cell_type": "code",
   "execution_count": 44,
   "metadata": {},
   "outputs": [
    {
     "name": "stdout",
     "output_type": "stream",
     "text": [
      "MSE: 51.602460\n",
      "MAE: 5.554603\n",
      "RMSE: 7.183485\n",
      "MAPE: 0.449406\n"
     ]
    }
   ],
   "source": [
    "# 3-day analysis \n",
    "result, value_y_test, y_groundtruth\n",
    "N = 3\n",
    "ret_N = create_N_day_mean(pd.Series(result), N)\n",
    "gt_N = create_N_day_mean(pd.Series(y_groundtruth), N)\n",
    "\n",
    "(mse, mae, rmse, mape) = compute_metrics(ret_N, gt_N)\n",
    "days_3[str(model)] = (mse, mae, rmse, mape)"
   ]
  },
  {
   "cell_type": "code",
   "execution_count": 45,
   "metadata": {},
   "outputs": [
    {
     "name": "stdout",
     "output_type": "stream",
     "text": [
      "MSE: 22.512582\n",
      "MAE: 3.606683\n",
      "RMSE: 4.744743\n",
      "MAPE: 0.291479\n"
     ]
    }
   ],
   "source": [
    "# 7-day analysis \n",
    "N = 7\n",
    "ret_N = create_N_day_mean(pd.Series(result), N)\n",
    "gt_N = create_N_day_mean(pd.Series(y_groundtruth), N)\n",
    "\n",
    "(mse, mae, rmse, mape) = compute_metrics(ret_N, gt_N)\n",
    "days_7[str(model)] = (mse, mae, rmse, mape)"
   ]
  },
  {
   "cell_type": "markdown",
   "metadata": {},
   "source": [
    "##### plots"
   ]
  },
  {
   "cell_type": "code",
   "execution_count": 46,
   "metadata": {},
   "outputs": [
    {
     "data": {
      "image/png": "[encoded data removed]",
      "text/plain": [
       "<Figure size 640x480 with 1 Axes>"
      ]
     },
     "metadata": {},
     "output_type": "display_data"
    }
   ],
   "source": [
    "plt.plot(result, label = 'Predicted')\n",
    "plt.plot(y_groundtruth, label = 'True')\n",
    "plt.legend()\n",
    "plt.show()"
   ]
  },
  {
   "cell_type": "markdown",
   "metadata": {},
   "source": [
    "## RNN"
   ]
  },
  {
   "cell_type": "markdown",
   "metadata": {},
   "source": [
    "##### RNN"
   ]
  },
  {
   "cell_type": "code",
   "execution_count": 47,
   "metadata": {},
   "outputs": [
    {
     "name": "stdout",
     "output_type": "stream",
     "text": [
      "#-------------------------\n",
      "Now running model: Hidden-size 5,  lookback 1\n"
     ]
    },
    {
     "name": "stdout",
     "output_type": "stream",
     "text": [
      "Early stopping at epoch 30 with validation loss: 0.010083571258114606\n",
      "#-------------------------\n",
      "Now running model: Hidden-size 15,  lookback 1\n",
      "Early stopping at epoch 17 with validation loss: 0.010217014200440267\n",
      "#-------------------------\n",
      "Now running model: Hidden-size 30,  lookback 1\n",
      "Early stopping at epoch 11 with validation loss: 0.010365298296120472\n",
      "#-------------------------\n",
      "Now running model: Hidden-size 5,  lookback 5\n",
      "Early stopping at epoch 11 with validation loss: 0.010459338945177634\n",
      "#-------------------------\n",
      "Now running model: Hidden-size 15,  lookback 5\n",
      "Early stopping at epoch 15 with validation loss: 0.010561615893072107\n",
      "#-------------------------\n",
      "Now running model: Hidden-size 30,  lookback 5\n",
      "Early stopping at epoch 11 with validation loss: 0.010619146516546607\n",
      "#-------------------------\n",
      "Now running model: Hidden-size 5,  lookback 10\n",
      "Early stopping at epoch 26 with validation loss: 0.01062684770241925\n",
      "#-------------------------\n",
      "Now running model: Hidden-size 15,  lookback 10\n",
      "Early stopping at epoch 14 with validation loss: 0.01063764925546399\n",
      "#-------------------------\n",
      "Now running model: Hidden-size 30,  lookback 10\n",
      "Early stopping at epoch 13 with validation loss: 0.01074878979338015\n"
     ]
    }
   ],
   "source": [
    "# use the same parameters as above\n",
    "#\n",
    "model = 'rnn'\n",
    "\n",
    "best_params, best_historical_losses, best_val_loss, \\\n",
    "                        best_model, historical_losses = grid_search_model(X_mm, y_mm, model, **model_params)\n",
    "\n",
    "rnn_dict = {\n",
    "    'best_params': best_params,\n",
    "    'best_historical_losses': best_historical_losses,\n",
    "    'best_val_loss': best_val_loss,\n",
    "    'best_model': best_model,\n",
    "    'historical_losses': historical_losses,\n",
    "}"
   ]
  },
  {
   "cell_type": "code",
   "execution_count": 48,
   "metadata": {},
   "outputs": [
    {
     "name": "stdout",
     "output_type": "stream",
     "text": [
      "NN model is :  rnn\n",
      "\n",
      "#-------------------------------\n",
      "Comparison between the groundtruth and our predictions\n",
      "MSE: 169.943260\n",
      "MAE: 10.231014\n",
      "RMSE: 13.036229\n",
      "MAPE: 12.993012\n",
      "\n",
      "#-------------------------------\n",
      "Comparison between groundtruth and the shifted y_array\n",
      "MSE: 155.946882\n",
      "MAE: 9.609144\n",
      "RMSE: 12.487869\n",
      "MAPE: 0.775451\n"
     ]
    }
   ],
   "source": [
    "result, value_y_test, y_groundtruth, _ = create_test_arrays(X_test_tensors_final, df, best_model, mm)\n",
    "\n",
    "print(\"NN model is : \", model)\n",
    "print('\\n#-------------------------------')\n",
    "print('Comparison between the groundtruth and our predictions')\n",
    "(mse, mae, rmse, mape) = compute_metrics(y_groundtruth, result)\n",
    "days_1[str(model)] = (mse, mae, rmse, mape)\n",
    "\n",
    "print('\\n#-------------------------------')\n",
    "print('Comparison between groundtruth and the shifted y_array')\n",
    "_ = compute_metrics(y_groundtruth, value_y_test)"
   ]
  },
  {
   "cell_type": "code",
   "execution_count": 49,
   "metadata": {},
   "outputs": [
    {
     "name": "stdout",
     "output_type": "stream",
     "text": [
      "MSE: 59.654676\n",
      "MAE: 6.151066\n",
      "RMSE: 7.723644\n",
      "MAPE: 0.497447\n"
     ]
    }
   ],
   "source": [
    "# 3-day analysis \n",
    "result, value_y_test, y_groundtruth\n",
    "N = 3\n",
    "ret_N = create_N_day_mean(pd.Series(result), N)\n",
    "gt_N = create_N_day_mean(pd.Series(y_groundtruth), N)\n",
    "\n",
    "(mse, mae, rmse, mape) = compute_metrics(ret_N, gt_N)\n",
    "days_3[str(model)] = (mse, mae, rmse, mape)"
   ]
  },
  {
   "cell_type": "code",
   "execution_count": 50,
   "metadata": {},
   "outputs": [
    {
     "name": "stdout",
     "output_type": "stream",
     "text": [
      "MSE: 29.309871\n",
      "MAE: 4.270098\n",
      "RMSE: 5.413859\n",
      "MAPE: 0.343954\n"
     ]
    }
   ],
   "source": [
    "# 7-day analysis \n",
    "N = 7\n",
    "ret_N = create_N_day_mean(pd.Series(result), N)\n",
    "gt_N = create_N_day_mean(pd.Series(y_groundtruth), N)\n",
    "\n",
    "(mse, mae, rmse, mape) = compute_metrics(ret_N, gt_N)\n",
    "days_7[str(model)] = (mse, mae, rmse, mape)"
   ]
  },
  {
   "cell_type": "markdown",
   "metadata": {},
   "source": [
    "## GRU"
   ]
  },
  {
   "cell_type": "code",
   "execution_count": 51,
   "metadata": {},
   "outputs": [
    {
     "name": "stdout",
     "output_type": "stream",
     "text": [
      "#-------------------------\n",
      "Now running model: Hidden-size 5,  lookback 1\n"
     ]
    },
    {
     "name": "stdout",
     "output_type": "stream",
     "text": [
      "Early stopping at epoch 52 with validation loss: 0.010205810100249037\n",
      "#-------------------------\n",
      "Now running model: Hidden-size 15,  lookback 1\n",
      "Early stopping at epoch 11 with validation loss: 0.010216883065678724\n",
      "#-------------------------\n",
      "Now running model: Hidden-size 30,  lookback 1\n",
      "Early stopping at epoch 14 with validation loss: 0.010236741435464198\n",
      "#-------------------------\n",
      "Now running model: Hidden-size 5,  lookback 5\n",
      "Early stopping at epoch 15 with validation loss: 0.010290469105423587\n",
      "#-------------------------\n",
      "Now running model: Hidden-size 15,  lookback 5\n",
      "Early stopping at epoch 11 with validation loss: 0.010353142372900394\n",
      "#-------------------------\n",
      "Now running model: Hidden-size 30,  lookback 5\n",
      "Early stopping at epoch 11 with validation loss: 0.01040761719071647\n",
      "#-------------------------\n",
      "Now running model: Hidden-size 5,  lookback 10\n",
      "Early stopping at epoch 13 with validation loss: 0.01047725816507165\n",
      "#-------------------------\n",
      "Now running model: Hidden-size 15,  lookback 10\n",
      "Early stopping at epoch 15 with validation loss: 0.010541170432300465\n",
      "#-------------------------\n",
      "Now running model: Hidden-size 30,  lookback 10\n",
      "Early stopping at epoch 13 with validation loss: 0.01060787727488432\n"
     ]
    }
   ],
   "source": [
    "# use the same parameters as above\n",
    "#\n",
    "model = 'gru'\n",
    "\n",
    "best_params, best_historical_losses, best_val_loss, \\\n",
    "                        best_model, historical_losses = grid_search_model(X_mm, y_mm, model, **model_params)\n",
    "\n",
    "gru_dict = {\n",
    "    'best_params': best_params,\n",
    "    'best_historical_losses': best_historical_losses,\n",
    "    'best_val_loss': best_val_loss,\n",
    "    'best_model': best_model,\n",
    "    'historical_losses': historical_losses,\n",
    "}"
   ]
  },
  {
   "cell_type": "code",
   "execution_count": 52,
   "metadata": {},
   "outputs": [
    {
     "name": "stdout",
     "output_type": "stream",
     "text": [
      "NN model is :  gru\n",
      "\n",
      "#-------------------------------\n",
      "Comparison between the groundtruth and our predictions\n",
      "MSE: 170.049824\n",
      "MAE: 10.108265\n",
      "RMSE: 13.040315\n",
      "MAPE: 13.000710\n",
      "\n",
      "#-------------------------------\n",
      "Comparison between groundtruth and the shifted y_array\n",
      "MSE: 155.946882\n",
      "MAE: 9.609144\n",
      "RMSE: 12.487869\n",
      "MAPE: 0.775451\n"
     ]
    }
   ],
   "source": [
    "result, value_y_test, y_groundtruth, _ = create_test_arrays(X_test_tensors_final, df, best_model, mm)\n",
    "\n",
    "print(\"NN model is : \", model)\n",
    "print('\\n#-------------------------------')\n",
    "print('Comparison between the groundtruth and our predictions')\n",
    "(mse, mae, rmse, mape) = compute_metrics(y_groundtruth, result)\n",
    "days_1[str(model)] = (mse, mae, rmse, mape)\n",
    "\n",
    "print('\\n#-------------------------------')\n",
    "print('Comparison between groundtruth and the shifted y_array')\n",
    "_ = compute_metrics(y_groundtruth, value_y_test)"
   ]
  },
  {
   "cell_type": "code",
   "execution_count": 53,
   "metadata": {},
   "outputs": [
    {
     "name": "stdout",
     "output_type": "stream",
     "text": [
      "MSE: 56.472322\n",
      "MAE: 5.873470\n",
      "RMSE: 7.514807\n",
      "MAPE: 0.475019\n"
     ]
    }
   ],
   "source": [
    "# 3-day analysis \n",
    "result, value_y_test, y_groundtruth\n",
    "N = 3\n",
    "ret_N = create_N_day_mean(pd.Series(result), N)\n",
    "gt_N = create_N_day_mean(pd.Series(y_groundtruth), N)\n",
    "\n",
    "(mse, mae, rmse, mape) = compute_metrics(ret_N, gt_N)\n",
    "days_3[str(model)] = (mse, mae, rmse, mape)"
   ]
  },
  {
   "cell_type": "code",
   "execution_count": 54,
   "metadata": {},
   "outputs": [
    {
     "name": "stdout",
     "output_type": "stream",
     "text": [
      "MSE: 25.437398\n",
      "MAE: 3.864708\n",
      "RMSE: 5.043550\n",
      "MAPE: 0.311881\n"
     ]
    }
   ],
   "source": [
    "# 7-day analysis \n",
    "N = 7\n",
    "ret_N = create_N_day_mean(pd.Series(result), N)\n",
    "gt_N = create_N_day_mean(pd.Series(y_groundtruth), N)\n",
    "\n",
    "(mse, mae, rmse, mape) = compute_metrics(ret_N, gt_N)\n",
    "days_7[str(model)] = (mse, mae, rmse, mape)"
   ]
  },
  {
   "cell_type": "markdown",
   "metadata": {},
   "source": [
    "## Bi-LSTM"
   ]
  },
  {
   "cell_type": "code",
   "execution_count": 55,
   "metadata": {},
   "outputs": [
    {
     "name": "stdout",
     "output_type": "stream",
     "text": [
      "#-------------------------\n",
      "Now running model: Hidden-size 5,  lookback 1\n"
     ]
    },
    {
     "name": "stdout",
     "output_type": "stream",
     "text": [
      "Early stopping at epoch 45 with validation loss: 0.009994356200189852\n",
      "#-------------------------\n",
      "Now running model: Hidden-size 15,  lookback 1\n",
      "Early stopping at epoch 11 with validation loss: 0.010018714095988288\n",
      "#-------------------------\n",
      "Now running model: Hidden-size 30,  lookback 1\n",
      "Early stopping at epoch 24 with validation loss: 0.010038881301425578\n",
      "#-------------------------\n",
      "Now running model: Hidden-size 5,  lookback 5\n",
      "Early stopping at epoch 20 with validation loss: 0.010039106607664286\n",
      "#-------------------------\n",
      "Now running model: Hidden-size 15,  lookback 5\n",
      "Early stopping at epoch 12 with validation loss: 0.010045747272670269\n",
      "#-------------------------\n",
      "Now running model: Hidden-size 30,  lookback 5\n",
      "Early stopping at epoch 15 with validation loss: 0.01007030682820009\n",
      "#-------------------------\n",
      "Now running model: Hidden-size 5,  lookback 10\n",
      "Early stopping at epoch 11 with validation loss: 0.010079285163977525\n",
      "#-------------------------\n",
      "Now running model: Hidden-size 15,  lookback 10\n",
      "Early stopping at epoch 15 with validation loss: 0.010116864126402794\n",
      "#-------------------------\n",
      "Now running model: Hidden-size 30,  lookback 10\n",
      "Early stopping at epoch 20 with validation loss: 0.010152758922564184\n"
     ]
    }
   ],
   "source": [
    "# use the same parameters \n",
    "#\n",
    "model = 'blstm'\n",
    "\n",
    "best_params, best_historical_losses, best_val_loss, \\\n",
    "                        best_model, historical_losses = grid_search_model(X_mm, y_mm, model, **model_params)\n",
    "\n",
    "blstm_dict = {\n",
    "    'best_params': best_params,\n",
    "    'best_historical_losses': best_historical_losses,\n",
    "    'best_val_loss': best_val_loss,\n",
    "    'best_model': best_model,\n",
    "    'historical_losses': historical_losses,\n",
    "}"
   ]
  },
  {
   "cell_type": "code",
   "execution_count": 56,
   "metadata": {},
   "outputs": [
    {
     "name": "stdout",
     "output_type": "stream",
     "text": [
      "NN model is :  blstm\n",
      "\n",
      "#-------------------------------\n",
      "Comparison between the groundtruth and our predictions\n",
      "MSE: 158.259059\n",
      "MAE: 9.753448\n",
      "RMSE: 12.580106\n",
      "MAPE: 12.999315\n",
      "\n",
      "#-------------------------------\n",
      "Comparison between groundtruth and the shifted y_array\n",
      "MSE: 155.946882\n",
      "MAE: 9.609144\n",
      "RMSE: 12.487869\n",
      "MAPE: 0.775451\n"
     ]
    }
   ],
   "source": [
    "result, value_y_test, y_groundtruth, _ = create_test_arrays(X_test_tensors_final, df, best_model, mm)\n",
    "\n",
    "print(\"NN model is : \", model)\n",
    "print('\\n#-------------------------------')\n",
    "print('Comparison between the groundtruth and our predictions')\n",
    "(mse, mae, rmse, mape) = compute_metrics(y_groundtruth, result)\n",
    "days_1[str(model)] = (mse, mae, rmse, mape)\n",
    "\n",
    "print('\\n#-------------------------------')\n",
    "print('Comparison between groundtruth and the shifted y_array')\n",
    "_ = compute_metrics(y_groundtruth, value_y_test)"
   ]
  },
  {
   "cell_type": "code",
   "execution_count": 57,
   "metadata": {},
   "outputs": [
    {
     "name": "stdout",
     "output_type": "stream",
     "text": [
      "MSE: 52.840376\n",
      "MAE: 5.657103\n",
      "RMSE: 7.269139\n",
      "MAPE: 0.457782\n"
     ]
    }
   ],
   "source": [
    "# 3-day analysis \n",
    "result, value_y_test, y_groundtruth\n",
    "N = 3\n",
    "ret_N = create_N_day_mean(pd.Series(result), N)\n",
    "gt_N = create_N_day_mean(pd.Series(y_groundtruth), N)\n",
    "\n",
    "(mse, mae, rmse, mape) = compute_metrics(ret_N, gt_N)\n",
    "days_3[str(model)] = (mse, mae, rmse, mape)"
   ]
  },
  {
   "cell_type": "code",
   "execution_count": 58,
   "metadata": {},
   "outputs": [
    {
     "name": "stdout",
     "output_type": "stream",
     "text": [
      "MSE: 22.518051\n",
      "MAE: 3.661804\n",
      "RMSE: 4.745319\n",
      "MAPE: 0.295499\n"
     ]
    }
   ],
   "source": [
    "# 7-day analysis \n",
    "N = 7\n",
    "ret_N = create_N_day_mean(pd.Series(result), N)\n",
    "gt_N = create_N_day_mean(pd.Series(y_groundtruth), N)\n",
    "\n",
    "(mse, mae, rmse, mape) = compute_metrics(ret_N, gt_N)\n",
    "days_7[str(model)] = (mse, mae, rmse, mape)"
   ]
  },
  {
   "cell_type": "markdown",
   "metadata": {},
   "source": [
    "## Stacked LSTM"
   ]
  },
  {
   "cell_type": "code",
   "execution_count": 59,
   "metadata": {},
   "outputs": [
    {
     "name": "stdout",
     "output_type": "stream",
     "text": [
      "#-------------------------\n",
      "Now running model: Hidden-size 5,  lookback 1\n"
     ]
    },
    {
     "name": "stdout",
     "output_type": "stream",
     "text": [
      "Early stopping at epoch 56 with validation loss: 0.009954707015578339\n",
      "#-------------------------\n",
      "Now running model: Hidden-size 15,  lookback 1\n",
      "Early stopping at epoch 11 with validation loss: 0.009961565922400573\n",
      "#-------------------------\n",
      "Now running model: Hidden-size 30,  lookback 1\n",
      "Early stopping at epoch 13 with validation loss: 0.009975849968812815\n",
      "#-------------------------\n",
      "Now running model: Hidden-size 5,  lookback 5\n",
      "Early stopping at epoch 12 with validation loss: 0.009989986457384942\n",
      "#-------------------------\n",
      "Now running model: Hidden-size 15,  lookback 5\n",
      "Early stopping at epoch 15 with validation loss: 0.010001446835969279\n",
      "#-------------------------\n",
      "Now running model: Hidden-size 30,  lookback 5\n",
      "Early stopping at epoch 19 with validation loss: 0.010013815163203129\n",
      "#-------------------------\n",
      "Now running model: Hidden-size 5,  lookback 10\n",
      "Early stopping at epoch 11 with validation loss: 0.01001670845307228\n",
      "#-------------------------\n",
      "Now running model: Hidden-size 15,  lookback 10\n",
      "Early stopping at epoch 19 with validation loss: 0.010019295837548448\n",
      "#-------------------------\n",
      "Now running model: Hidden-size 30,  lookback 10\n",
      "Early stopping at epoch 12 with validation loss: 0.010076504637964251\n"
     ]
    }
   ],
   "source": [
    "#\n",
    "model = 'stackedlstm'\n",
    "\n",
    "best_params, best_historical_losses, best_val_loss, \\\n",
    "                        best_model, historical_losses = grid_search_model(X_mm, y_mm, model, **model_params)\n",
    "\n",
    "stackedlstm_dict = {\n",
    "    'best_params': best_params,\n",
    "    'best_historical_losses': best_historical_losses,\n",
    "    'best_val_loss': best_val_loss,\n",
    "    'best_model': best_model,\n",
    "    'historical_losses': historical_losses,\n",
    "}"
   ]
  },
  {
   "cell_type": "code",
   "execution_count": 60,
   "metadata": {},
   "outputs": [
    {
     "name": "stdout",
     "output_type": "stream",
     "text": [
      "NN model is :  stackedlstm\n",
      "\n",
      "#-------------------------------\n",
      "Comparison between the groundtruth and our predictions\n",
      "MSE: 156.533323\n",
      "MAE: 9.648728\n",
      "RMSE: 12.511328\n",
      "MAPE: 13.002422\n",
      "\n",
      "#-------------------------------\n",
      "Comparison between groundtruth and the shifted y_array\n",
      "MSE: 155.946882\n",
      "MAE: 9.609144\n",
      "RMSE: 12.487869\n",
      "MAPE: 0.775451\n"
     ]
    }
   ],
   "source": [
    "result, value_y_test, y_groundtruth, _ = create_test_arrays(X_test_tensors_final, df, best_model, mm)\n",
    "\n",
    "print(\"NN model is : \", model)\n",
    "print('\\n#-------------------------------')\n",
    "print('Comparison between the groundtruth and our predictions')\n",
    "(mse, mae, rmse, mape) = compute_metrics(y_groundtruth, result)\n",
    "days_1[str(model)] = (mse, mae, rmse, mape)\n",
    "\n",
    "print('\\n#-------------------------------')\n",
    "print('Comparison between groundtruth and the shifted y_array')\n",
    "_ = compute_metrics(y_groundtruth, value_y_test)"
   ]
  },
  {
   "cell_type": "code",
   "execution_count": 61,
   "metadata": {},
   "outputs": [
    {
     "name": "stdout",
     "output_type": "stream",
     "text": [
      "MSE: 52.280716\n",
      "MAE: 5.593246\n",
      "RMSE: 7.230541\n",
      "MAPE: 0.452193\n"
     ]
    }
   ],
   "source": [
    "# 3-day analysis \n",
    "result, value_y_test, y_groundtruth\n",
    "N = 3\n",
    "ret_N = create_N_day_mean(pd.Series(result), N)\n",
    "gt_N = create_N_day_mean(pd.Series(y_groundtruth), N)\n",
    "\n",
    "(mse, mae, rmse, mape) = compute_metrics(ret_N, gt_N)\n",
    "days_3[str(model)] = (mse, mae, rmse, mape)"
   ]
  },
  {
   "cell_type": "code",
   "execution_count": 62,
   "metadata": {},
   "outputs": [
    {
     "name": "stdout",
     "output_type": "stream",
     "text": [
      "MSE: 22.105833\n",
      "MAE: 3.592443\n",
      "RMSE: 4.701684\n",
      "MAPE: 0.290095\n"
     ]
    }
   ],
   "source": [
    "# 7-day analysis \n",
    "N = 7\n",
    "ret_N = create_N_day_mean(pd.Series(result), N)\n",
    "gt_N = create_N_day_mean(pd.Series(y_groundtruth), N)\n",
    "\n",
    "(mse, mae, rmse, mape) = compute_metrics(ret_N, gt_N)\n",
    "days_7[str(model)] = (mse, mae, rmse, mape)"
   ]
  },
  {
   "cell_type": "markdown",
   "metadata": {},
   "source": [
    "# Data aggregation"
   ]
  },
  {
   "cell_type": "code",
   "execution_count": 63,
   "metadata": {},
   "outputs": [],
   "source": [
    "# DICTS\n",
    "# days_1 = dict()\n",
    "# days_3 = dict()\n",
    "# days_7 = dict()"
   ]
  },
  {
   "cell_type": "code",
   "execution_count": 64,
   "metadata": {},
   "outputs": [],
   "source": [
    "days1df = pd.DataFrame(days_1, index=['mse', 'mae', 'rmse', 'mape'])\n",
    "days3df = pd.DataFrame(days_3, index=['mse', 'mae', 'rmse', 'mape'])\n",
    "days7df = pd.DataFrame(days_7, index=['mse', 'mae', 'rmse', 'mape'])"
   ]
  },
  {
   "cell_type": "code",
   "execution_count": 65,
   "metadata": {},
   "outputs": [
    {
     "data": {
      "text/html": [
       "<style type=\"text/css\">\n",
       "#T_f4e38_row0_col0, #T_f4e38_row1_col0, #T_f4e38_row2_col0, #T_f4e38_row3_col1 {\n",
       "  font-weight: bold;\n",
       "}\n",
       "#T_f4e38_row0_col4, #T_f4e38_row1_col4, #T_f4e38_row2_col4, #T_f4e38_row3_col3 {\n",
       "  text-decoration: underline;\n",
       "}\n",
       "</style>\n",
       "<table id=\"T_f4e38\">\n",
       "  <thead>\n",
       "    <tr>\n",
       "      <th class=\"blank level0\" >&nbsp;</th>\n",
       "      <th id=\"T_f4e38_level0_col0\" class=\"col_heading level0 col0\" >lstm</th>\n",
       "      <th id=\"T_f4e38_level0_col1\" class=\"col_heading level0 col1\" >rnn</th>\n",
       "      <th id=\"T_f4e38_level0_col2\" class=\"col_heading level0 col2\" >gru</th>\n",
       "      <th id=\"T_f4e38_level0_col3\" class=\"col_heading level0 col3\" >blstm</th>\n",
       "      <th id=\"T_f4e38_level0_col4\" class=\"col_heading level0 col4\" >stackedlstm</th>\n",
       "    </tr>\n",
       "  </thead>\n",
       "  <tbody>\n",
       "    <tr>\n",
       "      <th id=\"T_f4e38_level0_row0\" class=\"row_heading level0 row0\" >mse</th>\n",
       "      <td id=\"T_f4e38_row0_col0\" class=\"data row0 col0\" >155.496030</td>\n",
       "      <td id=\"T_f4e38_row0_col1\" class=\"data row0 col1\" >169.943260</td>\n",
       "      <td id=\"T_f4e38_row0_col2\" class=\"data row0 col2\" >170.049824</td>\n",
       "      <td id=\"T_f4e38_row0_col3\" class=\"data row0 col3\" >158.259059</td>\n",
       "      <td id=\"T_f4e38_row0_col4\" class=\"data row0 col4\" >156.533323</td>\n",
       "    </tr>\n",
       "    <tr>\n",
       "      <th id=\"T_f4e38_level0_row1\" class=\"row_heading level0 row1\" >mae</th>\n",
       "      <td id=\"T_f4e38_row1_col0\" class=\"data row1 col0\" >9.619382</td>\n",
       "      <td id=\"T_f4e38_row1_col1\" class=\"data row1 col1\" >10.231014</td>\n",
       "      <td id=\"T_f4e38_row1_col2\" class=\"data row1 col2\" >10.108265</td>\n",
       "      <td id=\"T_f4e38_row1_col3\" class=\"data row1 col3\" >9.753448</td>\n",
       "      <td id=\"T_f4e38_row1_col4\" class=\"data row1 col4\" >9.648728</td>\n",
       "    </tr>\n",
       "    <tr>\n",
       "      <th id=\"T_f4e38_level0_row2\" class=\"row_heading level0 row2\" >rmse</th>\n",
       "      <td id=\"T_f4e38_row2_col0\" class=\"data row2 col0\" >12.469805</td>\n",
       "      <td id=\"T_f4e38_row2_col1\" class=\"data row2 col1\" >13.036229</td>\n",
       "      <td id=\"T_f4e38_row2_col2\" class=\"data row2 col2\" >13.040315</td>\n",
       "      <td id=\"T_f4e38_row2_col3\" class=\"data row2 col3\" >12.580106</td>\n",
       "      <td id=\"T_f4e38_row2_col4\" class=\"data row2 col4\" >12.511328</td>\n",
       "    </tr>\n",
       "    <tr>\n",
       "      <th id=\"T_f4e38_level0_row3\" class=\"row_heading level0 row3\" >mape</th>\n",
       "      <td id=\"T_f4e38_row3_col0\" class=\"data row3 col0\" >13.000086</td>\n",
       "      <td id=\"T_f4e38_row3_col1\" class=\"data row3 col1\" >12.993012</td>\n",
       "      <td id=\"T_f4e38_row3_col2\" class=\"data row3 col2\" >13.000710</td>\n",
       "      <td id=\"T_f4e38_row3_col3\" class=\"data row3 col3\" >12.999315</td>\n",
       "      <td id=\"T_f4e38_row3_col4\" class=\"data row3 col4\" >13.002422</td>\n",
       "    </tr>\n",
       "  </tbody>\n",
       "</table>\n"
      ],
      "text/plain": [
       "<pandas.io.formats.style.Styler at 0x7f8ebff78850>"
      ]
     },
     "execution_count": 65,
     "metadata": {},
     "output_type": "execute_result"
    }
   ],
   "source": [
    "def highlight_min_and_second_min(s):\n",
    "    sorted_vals = sorted(s)\n",
    "    min_val = sorted_vals[0]  # Get the lowest value in each row\n",
    "    second_min_val = sorted_vals[1]  # Get the second lowest value in each row\n",
    "    is_min = s == min_val\n",
    "    is_second_min = s == second_min_val\n",
    "    styles = ['font-weight: bold' if v else '' for v in is_min]\n",
    "    for i, v in enumerate(is_second_min):\n",
    "        if v:\n",
    "            styles[i] += 'text-decoration: underline'\n",
    "    return styles\n",
    "\n",
    "styled_df = days1df.style.apply(highlight_min_and_second_min, axis=1)\n",
    "\n",
    "# Display styled DataFrame\n",
    "styled_df"
   ]
  },
  {
   "cell_type": "code",
   "execution_count": 66,
   "metadata": {},
   "outputs": [
    {
     "data": {
      "text/html": [
       "<style type=\"text/css\">\n",
       "#T_61eb8_row0_col0, #T_61eb8_row1_col0, #T_61eb8_row2_col0, #T_61eb8_row3_col0 {\n",
       "  font-weight: bold;\n",
       "}\n",
       "#T_61eb8_row0_col4, #T_61eb8_row1_col4, #T_61eb8_row2_col4, #T_61eb8_row3_col4 {\n",
       "  text-decoration: underline;\n",
       "}\n",
       "</style>\n",
       "<table id=\"T_61eb8\">\n",
       "  <thead>\n",
       "    <tr>\n",
       "      <th class=\"blank level0\" >&nbsp;</th>\n",
       "      <th id=\"T_61eb8_level0_col0\" class=\"col_heading level0 col0\" >lstm</th>\n",
       "      <th id=\"T_61eb8_level0_col1\" class=\"col_heading level0 col1\" >rnn</th>\n",
       "      <th id=\"T_61eb8_level0_col2\" class=\"col_heading level0 col2\" >gru</th>\n",
       "      <th id=\"T_61eb8_level0_col3\" class=\"col_heading level0 col3\" >blstm</th>\n",
       "      <th id=\"T_61eb8_level0_col4\" class=\"col_heading level0 col4\" >stackedlstm</th>\n",
       "    </tr>\n",
       "  </thead>\n",
       "  <tbody>\n",
       "    <tr>\n",
       "      <th id=\"T_61eb8_level0_row0\" class=\"row_heading level0 row0\" >mse</th>\n",
       "      <td id=\"T_61eb8_row0_col0\" class=\"data row0 col0\" >51.602460</td>\n",
       "      <td id=\"T_61eb8_row0_col1\" class=\"data row0 col1\" >59.654676</td>\n",
       "      <td id=\"T_61eb8_row0_col2\" class=\"data row0 col2\" >56.472322</td>\n",
       "      <td id=\"T_61eb8_row0_col3\" class=\"data row0 col3\" >52.840376</td>\n",
       "      <td id=\"T_61eb8_row0_col4\" class=\"data row0 col4\" >52.280716</td>\n",
       "    </tr>\n",
       "    <tr>\n",
       "      <th id=\"T_61eb8_level0_row1\" class=\"row_heading level0 row1\" >mae</th>\n",
       "      <td id=\"T_61eb8_row1_col0\" class=\"data row1 col0\" >5.554603</td>\n",
       "      <td id=\"T_61eb8_row1_col1\" class=\"data row1 col1\" >6.151066</td>\n",
       "      <td id=\"T_61eb8_row1_col2\" class=\"data row1 col2\" >5.873470</td>\n",
       "      <td id=\"T_61eb8_row1_col3\" class=\"data row1 col3\" >5.657103</td>\n",
       "      <td id=\"T_61eb8_row1_col4\" class=\"data row1 col4\" >5.593246</td>\n",
       "    </tr>\n",
       "    <tr>\n",
       "      <th id=\"T_61eb8_level0_row2\" class=\"row_heading level0 row2\" >rmse</th>\n",
       "      <td id=\"T_61eb8_row2_col0\" class=\"data row2 col0\" >7.183485</td>\n",
       "      <td id=\"T_61eb8_row2_col1\" class=\"data row2 col1\" >7.723644</td>\n",
       "      <td id=\"T_61eb8_row2_col2\" class=\"data row2 col2\" >7.514807</td>\n",
       "      <td id=\"T_61eb8_row2_col3\" class=\"data row2 col3\" >7.269139</td>\n",
       "      <td id=\"T_61eb8_row2_col4\" class=\"data row2 col4\" >7.230541</td>\n",
       "    </tr>\n",
       "    <tr>\n",
       "      <th id=\"T_61eb8_level0_row3\" class=\"row_heading level0 row3\" >mape</th>\n",
       "      <td id=\"T_61eb8_row3_col0\" class=\"data row3 col0\" >0.449406</td>\n",
       "      <td id=\"T_61eb8_row3_col1\" class=\"data row3 col1\" >0.497447</td>\n",
       "      <td id=\"T_61eb8_row3_col2\" class=\"data row3 col2\" >0.475019</td>\n",
       "      <td id=\"T_61eb8_row3_col3\" class=\"data row3 col3\" >0.457782</td>\n",
       "      <td id=\"T_61eb8_row3_col4\" class=\"data row3 col4\" >0.452193</td>\n",
       "    </tr>\n",
       "  </tbody>\n",
       "</table>\n"
      ],
      "text/plain": [
       "<pandas.io.formats.style.Styler at 0x7f8ebffb2dd0>"
      ]
     },
     "execution_count": 66,
     "metadata": {},
     "output_type": "execute_result"
    }
   ],
   "source": [
    "styled_df = days3df.style.apply(highlight_min_and_second_min, axis=1)\n",
    "\n",
    "# Display styled DataFrame\n",
    "styled_df"
   ]
  },
  {
   "cell_type": "code",
   "execution_count": 67,
   "metadata": {},
   "outputs": [
    {
     "data": {
      "text/html": [
       "<style type=\"text/css\">\n",
       "#T_ff1c3_row0_col0, #T_ff1c3_row1_col0, #T_ff1c3_row2_col0, #T_ff1c3_row3_col0 {\n",
       "  text-decoration: underline;\n",
       "}\n",
       "#T_ff1c3_row0_col4, #T_ff1c3_row1_col4, #T_ff1c3_row2_col4, #T_ff1c3_row3_col4 {\n",
       "  font-weight: bold;\n",
       "}\n",
       "</style>\n",
       "<table id=\"T_ff1c3\">\n",
       "  <thead>\n",
       "    <tr>\n",
       "      <th class=\"blank level0\" >&nbsp;</th>\n",
       "      <th id=\"T_ff1c3_level0_col0\" class=\"col_heading level0 col0\" >lstm</th>\n",
       "      <th id=\"T_ff1c3_level0_col1\" class=\"col_heading level0 col1\" >rnn</th>\n",
       "      <th id=\"T_ff1c3_level0_col2\" class=\"col_heading level0 col2\" >gru</th>\n",
       "      <th id=\"T_ff1c3_level0_col3\" class=\"col_heading level0 col3\" >blstm</th>\n",
       "      <th id=\"T_ff1c3_level0_col4\" class=\"col_heading level0 col4\" >stackedlstm</th>\n",
       "    </tr>\n",
       "  </thead>\n",
       "  <tbody>\n",
       "    <tr>\n",
       "      <th id=\"T_ff1c3_level0_row0\" class=\"row_heading level0 row0\" >mse</th>\n",
       "      <td id=\"T_ff1c3_row0_col0\" class=\"data row0 col0\" >22.512582</td>\n",
       "      <td id=\"T_ff1c3_row0_col1\" class=\"data row0 col1\" >29.309871</td>\n",
       "      <td id=\"T_ff1c3_row0_col2\" class=\"data row0 col2\" >25.437398</td>\n",
       "      <td id=\"T_ff1c3_row0_col3\" class=\"data row0 col3\" >22.518051</td>\n",
       "      <td id=\"T_ff1c3_row0_col4\" class=\"data row0 col4\" >22.105833</td>\n",
       "    </tr>\n",
       "    <tr>\n",
       "      <th id=\"T_ff1c3_level0_row1\" class=\"row_heading level0 row1\" >mae</th>\n",
       "      <td id=\"T_ff1c3_row1_col0\" class=\"data row1 col0\" >3.606683</td>\n",
       "      <td id=\"T_ff1c3_row1_col1\" class=\"data row1 col1\" >4.270098</td>\n",
       "      <td id=\"T_ff1c3_row1_col2\" class=\"data row1 col2\" >3.864708</td>\n",
       "      <td id=\"T_ff1c3_row1_col3\" class=\"data row1 col3\" >3.661804</td>\n",
       "      <td id=\"T_ff1c3_row1_col4\" class=\"data row1 col4\" >3.592443</td>\n",
       "    </tr>\n",
       "    <tr>\n",
       "      <th id=\"T_ff1c3_level0_row2\" class=\"row_heading level0 row2\" >rmse</th>\n",
       "      <td id=\"T_ff1c3_row2_col0\" class=\"data row2 col0\" >4.744743</td>\n",
       "      <td id=\"T_ff1c3_row2_col1\" class=\"data row2 col1\" >5.413859</td>\n",
       "      <td id=\"T_ff1c3_row2_col2\" class=\"data row2 col2\" >5.043550</td>\n",
       "      <td id=\"T_ff1c3_row2_col3\" class=\"data row2 col3\" >4.745319</td>\n",
       "      <td id=\"T_ff1c3_row2_col4\" class=\"data row2 col4\" >4.701684</td>\n",
       "    </tr>\n",
       "    <tr>\n",
       "      <th id=\"T_ff1c3_level0_row3\" class=\"row_heading level0 row3\" >mape</th>\n",
       "      <td id=\"T_ff1c3_row3_col0\" class=\"data row3 col0\" >0.291479</td>\n",
       "      <td id=\"T_ff1c3_row3_col1\" class=\"data row3 col1\" >0.343954</td>\n",
       "      <td id=\"T_ff1c3_row3_col2\" class=\"data row3 col2\" >0.311881</td>\n",
       "      <td id=\"T_ff1c3_row3_col3\" class=\"data row3 col3\" >0.295499</td>\n",
       "      <td id=\"T_ff1c3_row3_col4\" class=\"data row3 col4\" >0.290095</td>\n",
       "    </tr>\n",
       "  </tbody>\n",
       "</table>\n"
      ],
      "text/plain": [
       "<pandas.io.formats.style.Styler at 0x7f8eebc5b3d0>"
      ]
     },
     "execution_count": 67,
     "metadata": {},
     "output_type": "execute_result"
    }
   ],
   "source": [
    "styled_df = days7df.style.apply(highlight_min_and_second_min, axis=1)\n",
    "\n",
    "# Display styled DataFrame\n",
    "styled_df"
   ]
  }
 ],
 "metadata": {
  "kernelspec": {
   "display_name": "kh_base",
   "language": "python",
   "name": "python3"
  },
  "language_info": {
   "codemirror_mode": {
    "name": "ipython",
    "version": 3
   },
   "file_extension": ".py",
   "mimetype": "text/x-python",
   "name": "python",
   "nbconvert_exporter": "python",
   "pygments_lexer": "ipython3",
   "version": "3.10.13"
  }
 },
 "nbformat": 4,
 "nbformat_minor": 2
}
