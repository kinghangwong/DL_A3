{
 "cells": [
  {
   "cell_type": "code",
   "execution_count": 21,
   "metadata": {},
   "outputs": [],
   "source": [
    "import numpy as np\n",
    "import pandas as pd\n",
    "import matplotlib.pyplot as plt\n",
    "import torch #pytorch\n",
    "import torch.nn as nn\n",
    "from torch.autograd import Variable\n",
    "from helper_functions import *"
   ]
  },
  {
   "cell_type": "markdown",
   "metadata": {},
   "source": [
    "# Benchmarking:\n",
    "\n",
    "January 2, 1991 to April 30, 2018\n",
    "\n",
    "- DJIA  \n",
    "* First 4500 days is training\n",
    "* Next 1300 days is validation\n",
    "* The rest is testing"
   ]
  },
  {
   "cell_type": "code",
   "execution_count": 22,
   "metadata": {},
   "outputs": [],
   "source": [
    "####### EXPERIMENT DEPENDENT\n",
    "WINDOW_SIZE = 20  # SAME AS ZHANG ET AL.\n",
    "\n",
    "####### DO NOT CHANGE BELOW\n",
    "TRAIN_END = 4500\n",
    "VAL_END = 4500 + 1300\n",
    "SEQ_LEN = WINDOW_SIZE\n"
   ]
  },
  {
   "cell_type": "markdown",
   "metadata": {},
   "source": [
    "## DJIA"
   ]
  },
  {
   "cell_type": "code",
   "execution_count": 23,
   "metadata": {},
   "outputs": [
    {
     "name": "stdout",
     "output_type": "stream",
     "text": [
      "6631\n"
     ]
    }
   ],
   "source": [
    "PATH = \"^DJI1991_2018.csv\"\n",
    "df = pd.read_csv(PATH, index_col = 'Date', parse_dates=True)\n",
    "df.head(5) ; print(len(df))"
   ]
  },
  {
   "cell_type": "markdown",
   "metadata": {},
   "source": [
    "### **Modify all input columns into residual**\n",
    "\n",
    "**Use previous day columns (including closing price) to predict next day results**"
   ]
  },
  {
   "cell_type": "code",
   "execution_count": 24,
   "metadata": {},
   "outputs": [
    {
     "name": "stdout",
     "output_type": "stream",
     "text": [
      "6631\n",
      "(6630, 6)\n",
      "(6630,)\n",
      "6629 6629\n",
      "(6629, 6) (6629,)\n"
     ]
    }
   ],
   "source": [
    "print(len(df))\n",
    "X = apply_residual_change(df); print(X.shape);\n",
    "y = apply_residual_change(df['Close']); print(y.shape)\n",
    "\n",
    "X, y = build_base_X_y_difference(X, y); print(X.shape, y.shape)\n",
    "\n",
    "y = y.reshape(-1, 1)\n",
    "\n",
    "assert X.shape[0] == len(df)-2, \"ERROR: SOME OPERATION ERROR DURING DATA ENGINEERING\"\n",
    "assert X.shape[0] == y.shape[0], \"ERROR : X AND y HAVE DIFFERENT LEN\"\n",
    "\n",
    "USABLE_DATA_LEN = X.shape[0]"
   ]
  },
  {
   "cell_type": "markdown",
   "metadata": {},
   "source": [
    "Transform the data to between 0 - 1 so the network converges faster"
   ]
  },
  {
   "cell_type": "code",
   "execution_count": 25,
   "metadata": {},
   "outputs": [],
   "source": [
    "from sklearn.preprocessing import StandardScaler, MinMaxScaler\n",
    "mm = MinMaxScaler()     # minMax on the y for quicker learning. More suitable than SS\n",
    "\n",
    "X_mm = mm.fit_transform(X)\n",
    "y_mm = mm.fit_transform(y) "
   ]
  },
  {
   "cell_type": "markdown",
   "metadata": {},
   "source": [
    "##### Train_val_test"
   ]
  },
  {
   "cell_type": "code",
   "execution_count": 26,
   "metadata": {},
   "outputs": [],
   "source": [
    "X_train_tensors_final, X_val_tensors_final, X_test_tensors_final, \\\n",
    "    y_train_tensors, y_val_tensors, y_test_tensors = create_datatensors(X_mm, y_mm)"
   ]
  },
  {
   "cell_type": "code",
   "execution_count": 27,
   "metadata": {},
   "outputs": [
    {
     "name": "stdout",
     "output_type": "stream",
     "text": [
      "Training Shape torch.Size([4500, 20, 6]) torch.Size([4500, 1])\n",
      "Testing Shape torch.Size([1300, 20, 6]) torch.Size([1300, 1])\n",
      "Testing Shape torch.Size([809, 20, 6]) torch.Size([809, 1])\n"
     ]
    }
   ],
   "source": [
    "print(\"Training Shape\", X_train_tensors_final.shape, y_train_tensors.shape)\n",
    "print(\"Testing Shape\", X_val_tensors_final.shape, y_val_tensors.shape)\n",
    "print(\"Testing Shape\", X_test_tensors_final.shape, y_test_tensors.shape)"
   ]
  },
  {
   "cell_type": "code",
   "execution_count": 28,
   "metadata": {},
   "outputs": [],
   "source": [
    "a = len(X_test_tensors_final) + len(X_train_tensors_final) + len(X_val_tensors_final)\n",
    "b = len(y_test_tensors) + len(y_train_tensors) + len(y_val_tensors)\n",
    "assert a == b, \"X AND Y UNEQUAL LEN\"\n",
    "\n",
    "USABLE_DATA_LEN =  len(X_test_tensors_final) + len(X_train_tensors_final) + len(X_val_tensors_final)"
   ]
  },
  {
   "cell_type": "markdown",
   "metadata": {},
   "source": [
    "#### GridSearch"
   ]
  },
  {
   "cell_type": "code",
   "execution_count": 29,
   "metadata": {},
   "outputs": [
    {
     "name": "stdout",
     "output_type": "stream",
     "text": [
      "#-------------------------\n",
      "Now running model: Hidden-size 5,  lookback 1\n"
     ]
    },
    {
     "name": "stdout",
     "output_type": "stream",
     "text": [
      "Early stopping at epoch 12 with validation loss: 0.0030750219096861236\n",
      "#-------------------------\n",
      "Now running model: Hidden-size 15,  lookback 1\n",
      "Early stopping at epoch 12 with validation loss: 0.0030774635748324415\n",
      "#-------------------------\n",
      "Now running model: Hidden-size 30,  lookback 1\n",
      "Early stopping at epoch 11 with validation loss: 0.0030809647060090267\n",
      "#-------------------------\n",
      "Now running model: Hidden-size 5,  lookback 5\n",
      "Early stopping at epoch 11 with validation loss: 0.003083178472546179\n",
      "#-------------------------\n",
      "Now running model: Hidden-size 15,  lookback 5\n",
      "Early stopping at epoch 14 with validation loss: 0.0030900623490352458\n",
      "#-------------------------\n",
      "Now running model: Hidden-size 30,  lookback 5\n",
      "Early stopping at epoch 18 with validation loss: 0.003096156070724402\n",
      "#-------------------------\n",
      "Now running model: Hidden-size 5,  lookback 10\n",
      "Early stopping at epoch 19 with validation loss: 0.0031002920969934542\n",
      "#-------------------------\n",
      "Now running model: Hidden-size 15,  lookback 10\n",
      "Early stopping at epoch 20 with validation loss: 0.0031160406325375888\n",
      "#-------------------------\n",
      "Now running model: Hidden-size 30,  lookback 10\n",
      "Early stopping at epoch 17 with validation loss: 0.0031175789105274327\n"
     ]
    }
   ],
   "source": [
    "model_params = {\n",
    "        'input_size': 6,\n",
    "        'num_layers': 1,\n",
    "        'num_classes': 1,\n",
    "        'criterion': torch.nn.MSELoss(),\n",
    "        'learning_rate': 0.001,\n",
    "        'hidden_sizes': [5, 15, 30],\n",
    "        'lookback': [1, 5, 10],\n",
    "        'sequence_len': 20\n",
    "    }\n",
    "\n",
    "model = 'lstm'\n",
    "\n",
    "best_params, best_historical_losses, best_val_loss, \\\n",
    "                        best_model, historical_losses = grid_search_model(X_mm, y_mm, model, **model_params)\n",
    "\n",
    "lstm_dict = {\n",
    "    'best_params': best_params,\n",
    "    'best_historical_losses': best_historical_losses,\n",
    "    'best_val_loss': best_val_loss,\n",
    "    'best_model': best_model,\n",
    "    'historical_losses': historical_losses,\n",
    "}"
   ]
  },
  {
   "cell_type": "markdown",
   "metadata": {},
   "source": [
    "##### Inverse compute Price Graph"
   ]
  },
  {
   "cell_type": "markdown",
   "metadata": {},
   "source": [
    "How to compute?\n",
    "\n",
    "Since we will **always** have access to the figures from yesterday, it means we will multiply the previous day 'Close' price with the predicted ratio."
   ]
  },
  {
   "cell_type": "code",
   "execution_count": 30,
   "metadata": {},
   "outputs": [],
   "source": [
    "# Create Dicts to store results\n",
    "days_1 = dict()\n",
    "days_3 = dict()\n",
    "days_7 = dict()"
   ]
  },
  {
   "cell_type": "code",
   "execution_count": 31,
   "metadata": {},
   "outputs": [
    {
     "name": "stdout",
     "output_type": "stream",
     "text": [
      "NN model is :  lstm\n",
      "\n",
      "#-------------------------------\n",
      "Comparison between the groundtruth and our predictions\n",
      "MSE: 25911.685790\n",
      "MAE: 109.015798\n",
      "RMSE: 160.971071\n",
      "MAPE: 14.776665\n",
      "\n",
      "#-------------------------------\n",
      "Comparison between groundtruth and the shifted y_array\n",
      "MSE: 26525.366931\n",
      "MAE: 109.795755\n",
      "RMSE: 162.866101\n",
      "MAPE: 0.565652\n"
     ]
    }
   ],
   "source": [
    "result, value_y_test, y_groundtruth, _ = create_test_arrays(X_test_tensors_final, df, best_model, mm)\n",
    "\n",
    "print(\"NN model is : \", model)\n",
    "print('\\n#-------------------------------')\n",
    "print('Comparison between the groundtruth and our predictions')\n",
    "(mse, mae, rmse, mape) = compute_metrics(y_groundtruth, result)\n",
    "days_1[str(model)] = (mse, mae, rmse, mape)\n",
    "\n",
    "print('\\n#-------------------------------')\n",
    "print('Comparison between groundtruth and the shifted y_array')\n",
    "_ = compute_metrics(y_groundtruth, value_y_test)"
   ]
  },
  {
   "cell_type": "code",
   "execution_count": 32,
   "metadata": {},
   "outputs": [
    {
     "name": "stdout",
     "output_type": "stream",
     "text": [
      "MSE: 8099.274320\n",
      "MAE: 62.127983\n",
      "RMSE: 89.995968\n",
      "MAPE: 0.318137\n"
     ]
    }
   ],
   "source": [
    "# 3-day analysis \n",
    "result, value_y_test, y_groundtruth\n",
    "N = 3\n",
    "ret_N = create_N_day_mean(pd.Series(result), N)\n",
    "gt_N = create_N_day_mean(pd.Series(y_groundtruth), N)\n",
    "\n",
    "(mse, mae, rmse, mape) = compute_metrics(ret_N, gt_N)\n",
    "days_3[str(model)] = (mse, mae, rmse, mape)"
   ]
  },
  {
   "cell_type": "code",
   "execution_count": 33,
   "metadata": {},
   "outputs": [
    {
     "name": "stdout",
     "output_type": "stream",
     "text": [
      "MSE: 3418.565435\n",
      "MAE: 41.419315\n",
      "RMSE: 58.468500\n",
      "MAPE: 0.211605\n"
     ]
    }
   ],
   "source": [
    "# 7-day analysis \n",
    "N = 7\n",
    "ret_N = create_N_day_mean(pd.Series(result), N)\n",
    "gt_N = create_N_day_mean(pd.Series(y_groundtruth), N)\n",
    "\n",
    "(mse, mae, rmse, mape) = compute_metrics(ret_N, gt_N)\n",
    "days_7[str(model)] = (mse, mae, rmse, mape)"
   ]
  },
  {
   "cell_type": "markdown",
   "metadata": {},
   "source": [
    "##### plots"
   ]
  },
  {
   "cell_type": "code",
   "execution_count": 34,
   "metadata": {},
   "outputs": [
    {
     "data": {
      "image/png": "[encoded data removed]",
      "text/plain": [
       "<Figure size 640x480 with 1 Axes>"
      ]
     },
     "metadata": {},
     "output_type": "display_data"
    }
   ],
   "source": [
    "plt.plot(result, label = 'Predicted')\n",
    "plt.plot(y_groundtruth, label = 'True')\n",
    "plt.legend()\n",
    "plt.show()"
   ]
  },
  {
   "cell_type": "markdown",
   "metadata": {},
   "source": [
    "## RNN"
   ]
  },
  {
   "cell_type": "markdown",
   "metadata": {},
   "source": [
    "##### RNN"
   ]
  },
  {
   "cell_type": "code",
   "execution_count": 35,
   "metadata": {},
   "outputs": [
    {
     "name": "stdout",
     "output_type": "stream",
     "text": [
      "#-------------------------\n",
      "Now running model: Hidden-size 5,  lookback 1\n"
     ]
    },
    {
     "name": "stdout",
     "output_type": "stream",
     "text": [
      "Early stopping at epoch 53 with validation loss: 0.003109628009530375\n",
      "#-------------------------\n",
      "Now running model: Hidden-size 15,  lookback 1\n",
      "Early stopping at epoch 11 with validation loss: 0.003126618767543355\n",
      "#-------------------------\n",
      "Now running model: Hidden-size 30,  lookback 1\n",
      "Early stopping at epoch 11 with validation loss: 0.0031682957466351003\n",
      "#-------------------------\n",
      "Now running model: Hidden-size 5,  lookback 5\n",
      "Early stopping at epoch 11 with validation loss: 0.0031737828394398093\n",
      "#-------------------------\n",
      "Now running model: Hidden-size 15,  lookback 5\n",
      "Early stopping at epoch 14 with validation loss: 0.003195280265971655\n",
      "#-------------------------\n",
      "Now running model: Hidden-size 30,  lookback 5\n",
      "Early stopping at epoch 12 with validation loss: 0.0032060077575762277\n",
      "#-------------------------\n",
      "Now running model: Hidden-size 5,  lookback 10\n",
      "Early stopping at epoch 11 with validation loss: 0.003220192335614162\n",
      "#-------------------------\n",
      "Now running model: Hidden-size 15,  lookback 10\n",
      "Early stopping at epoch 13 with validation loss: 0.0032282557449212707\n",
      "#-------------------------\n",
      "Now running model: Hidden-size 30,  lookback 10\n",
      "Early stopping at epoch 18 with validation loss: 0.0032373006006975362\n"
     ]
    }
   ],
   "source": [
    "# use the same parameters as above\n",
    "#\n",
    "model = 'rnn'\n",
    "\n",
    "best_params, best_historical_losses, best_val_loss, \\\n",
    "                        best_model, historical_losses = grid_search_model(X_mm, y_mm, model, **model_params)\n",
    "\n",
    "rnn_dict = {\n",
    "    'best_params': best_params,\n",
    "    'best_historical_losses': best_historical_losses,\n",
    "    'best_val_loss': best_val_loss,\n",
    "    'best_model': best_model,\n",
    "    'historical_losses': historical_losses,\n",
    "}"
   ]
  },
  {
   "cell_type": "code",
   "execution_count": 36,
   "metadata": {},
   "outputs": [
    {
     "name": "stdout",
     "output_type": "stream",
     "text": [
      "NN model is :  rnn\n",
      "\n",
      "#-------------------------------\n",
      "Comparison between the groundtruth and our predictions\n",
      "MSE: 28410.549331\n",
      "MAE: 115.362724\n",
      "RMSE: 168.554292\n",
      "MAPE: 14.767986\n",
      "\n",
      "#-------------------------------\n",
      "Comparison between groundtruth and the shifted y_array\n",
      "MSE: 26525.366931\n",
      "MAE: 109.795755\n",
      "RMSE: 162.866101\n",
      "MAPE: 0.565652\n"
     ]
    }
   ],
   "source": [
    "result, value_y_test, y_groundtruth, _ = create_test_arrays(X_test_tensors_final, df, best_model, mm)\n",
    "\n",
    "print(\"NN model is : \", model)\n",
    "print('\\n#-------------------------------')\n",
    "print('Comparison between the groundtruth and our predictions')\n",
    "(mse, mae, rmse, mape) = compute_metrics(y_groundtruth, result)\n",
    "days_1[str(model)] = (mse, mae, rmse, mape)\n",
    "\n",
    "print('\\n#-------------------------------')\n",
    "print('Comparison between groundtruth and the shifted y_array')\n",
    "_ = compute_metrics(y_groundtruth, value_y_test)"
   ]
  },
  {
   "cell_type": "code",
   "execution_count": 37,
   "metadata": {},
   "outputs": [
    {
     "name": "stdout",
     "output_type": "stream",
     "text": [
      "MSE: 8478.803478\n",
      "MAE: 64.948788\n",
      "RMSE: 92.080419\n",
      "MAPE: 0.332697\n"
     ]
    }
   ],
   "source": [
    "# 3-day analysis \n",
    "result, value_y_test, y_groundtruth\n",
    "N = 3\n",
    "ret_N = create_N_day_mean(pd.Series(result), N)\n",
    "gt_N = create_N_day_mean(pd.Series(y_groundtruth), N)\n",
    "\n",
    "(mse, mae, rmse, mape) = compute_metrics(ret_N, gt_N)\n",
    "days_3[str(model)] = (mse, mae, rmse, mape)"
   ]
  },
  {
   "cell_type": "code",
   "execution_count": 38,
   "metadata": {},
   "outputs": [
    {
     "name": "stdout",
     "output_type": "stream",
     "text": [
      "MSE: 3715.980535\n",
      "MAE: 45.121991\n",
      "RMSE: 60.958843\n",
      "MAPE: 0.229660\n"
     ]
    }
   ],
   "source": [
    "# 7-day analysis \n",
    "N = 7\n",
    "ret_N = create_N_day_mean(pd.Series(result), N)\n",
    "gt_N = create_N_day_mean(pd.Series(y_groundtruth), N)\n",
    "\n",
    "(mse, mae, rmse, mape) = compute_metrics(ret_N, gt_N)\n",
    "days_7[str(model)] = (mse, mae, rmse, mape)"
   ]
  },
  {
   "cell_type": "markdown",
   "metadata": {},
   "source": [
    "## GRU"
   ]
  },
  {
   "cell_type": "code",
   "execution_count": 39,
   "metadata": {},
   "outputs": [
    {
     "name": "stdout",
     "output_type": "stream",
     "text": [
      "#-------------------------\n",
      "Now running model: Hidden-size 5,  lookback 1\n"
     ]
    },
    {
     "name": "stdout",
     "output_type": "stream",
     "text": [
      "Early stopping at epoch 37 with validation loss: 0.0031146869622738806\n",
      "#-------------------------\n",
      "Now running model: Hidden-size 15,  lookback 1\n",
      "Early stopping at epoch 12 with validation loss: 0.0031322423104628377\n",
      "#-------------------------\n",
      "Now running model: Hidden-size 30,  lookback 1\n",
      "Early stopping at epoch 11 with validation loss: 0.0031806074406542794\n",
      "#-------------------------\n",
      "Now running model: Hidden-size 5,  lookback 5\n",
      "Early stopping at epoch 15 with validation loss: 0.003205749742891185\n",
      "#-------------------------\n",
      "Now running model: Hidden-size 15,  lookback 5\n",
      "Early stopping at epoch 24 with validation loss: 0.0032268549321310186\n",
      "#-------------------------\n",
      "Now running model: Hidden-size 30,  lookback 5\n",
      "Early stopping at epoch 19 with validation loss: 0.0032431441387615915\n",
      "#-------------------------\n",
      "Now running model: Hidden-size 5,  lookback 10\n",
      "Early stopping at epoch 20 with validation loss: 0.003257381440163022\n",
      "#-------------------------\n",
      "Now running model: Hidden-size 15,  lookback 10\n",
      "Early stopping at epoch 20 with validation loss: 0.0032654522418430667\n",
      "#-------------------------\n",
      "Now running model: Hidden-size 30,  lookback 10\n",
      "Early stopping at epoch 11 with validation loss: 0.0032730246496545834\n"
     ]
    }
   ],
   "source": [
    "# use the same parameters as above\n",
    "#\n",
    "model = 'gru'\n",
    "\n",
    "best_params, best_historical_losses, best_val_loss, \\\n",
    "                        best_model, historical_losses = grid_search_model(X_mm, y_mm, model, **model_params)\n",
    "\n",
    "gru_dict = {\n",
    "    'best_params': best_params,\n",
    "    'best_historical_losses': best_historical_losses,\n",
    "    'best_val_loss': best_val_loss,\n",
    "    'best_model': best_model,\n",
    "    'historical_losses': historical_losses,\n",
    "}"
   ]
  },
  {
   "cell_type": "code",
   "execution_count": 40,
   "metadata": {},
   "outputs": [
    {
     "name": "stdout",
     "output_type": "stream",
     "text": [
      "NN model is :  gru\n",
      "\n",
      "#-------------------------------\n",
      "Comparison between the groundtruth and our predictions\n",
      "MSE: 28333.846864\n",
      "MAE: 116.380810\n",
      "RMSE: 168.326608\n",
      "MAPE: 14.770384\n",
      "\n",
      "#-------------------------------\n",
      "Comparison between groundtruth and the shifted y_array\n",
      "MSE: 26525.366931\n",
      "MAE: 109.795755\n",
      "RMSE: 162.866101\n",
      "MAPE: 0.565652\n"
     ]
    }
   ],
   "source": [
    "result, value_y_test, y_groundtruth, _ = create_test_arrays(X_test_tensors_final, df, best_model, mm)\n",
    "\n",
    "print(\"NN model is : \", model)\n",
    "print('\\n#-------------------------------')\n",
    "print('Comparison between the groundtruth and our predictions')\n",
    "(mse, mae, rmse, mape) = compute_metrics(y_groundtruth, result)\n",
    "days_1[str(model)] = (mse, mae, rmse, mape)\n",
    "\n",
    "print('\\n#-------------------------------')\n",
    "print('Comparison between groundtruth and the shifted y_array')\n",
    "_ = compute_metrics(y_groundtruth, value_y_test)"
   ]
  },
  {
   "cell_type": "code",
   "execution_count": 41,
   "metadata": {},
   "outputs": [
    {
     "name": "stdout",
     "output_type": "stream",
     "text": [
      "MSE: 9052.238500\n",
      "MAE: 67.235335\n",
      "RMSE: 95.143253\n",
      "MAPE: 0.342894\n"
     ]
    }
   ],
   "source": [
    "# 3-day analysis \n",
    "result, value_y_test, y_groundtruth\n",
    "N = 3\n",
    "ret_N = create_N_day_mean(pd.Series(result), N)\n",
    "gt_N = create_N_day_mean(pd.Series(y_groundtruth), N)\n",
    "\n",
    "(mse, mae, rmse, mape) = compute_metrics(ret_N, gt_N)\n",
    "days_3[str(model)] = (mse, mae, rmse, mape)"
   ]
  },
  {
   "cell_type": "code",
   "execution_count": 42,
   "metadata": {},
   "outputs": [
    {
     "name": "stdout",
     "output_type": "stream",
     "text": [
      "MSE: 4046.237684\n",
      "MAE: 47.501975\n",
      "RMSE: 63.610044\n",
      "MAPE: 0.240289\n"
     ]
    }
   ],
   "source": [
    "# 7-day analysis \n",
    "N = 7\n",
    "ret_N = create_N_day_mean(pd.Series(result), N)\n",
    "gt_N = create_N_day_mean(pd.Series(y_groundtruth), N)\n",
    "\n",
    "(mse, mae, rmse, mape) = compute_metrics(ret_N, gt_N)\n",
    "days_7[str(model)] = (mse, mae, rmse, mape)"
   ]
  },
  {
   "cell_type": "markdown",
   "metadata": {},
   "source": [
    "## Bi-LSTM"
   ]
  },
  {
   "cell_type": "code",
   "execution_count": 43,
   "metadata": {},
   "outputs": [
    {
     "name": "stdout",
     "output_type": "stream",
     "text": [
      "#-------------------------\n",
      "Now running model: Hidden-size 5,  lookback 1\n"
     ]
    },
    {
     "name": "stdout",
     "output_type": "stream",
     "text": [
      "Early stopping at epoch 50 with validation loss: 0.0030722840214943196\n",
      "#-------------------------\n",
      "Now running model: Hidden-size 15,  lookback 1\n",
      "Early stopping at epoch 16 with validation loss: 0.0030799006429932468\n",
      "#-------------------------\n",
      "Now running model: Hidden-size 30,  lookback 1\n",
      "Early stopping at epoch 11 with validation loss: 0.0030853577631116823\n",
      "#-------------------------\n",
      "Now running model: Hidden-size 5,  lookback 5\n",
      "Early stopping at epoch 11 with validation loss: 0.0030948950840932565\n",
      "#-------------------------\n",
      "Now running model: Hidden-size 15,  lookback 5\n",
      "Early stopping at epoch 19 with validation loss: 0.003100734421267833\n",
      "#-------------------------\n",
      "Now running model: Hidden-size 30,  lookback 5\n",
      "Early stopping at epoch 11 with validation loss: 0.0031020157976166867\n",
      "#-------------------------\n",
      "Now running model: Hidden-size 5,  lookback 10\n",
      "Early stopping at epoch 20 with validation loss: 0.0031023602677145747\n",
      "#-------------------------\n",
      "Now running model: Hidden-size 15,  lookback 10\n",
      "Early stopping at epoch 20 with validation loss: 0.0031037483216694943\n",
      "#-------------------------\n",
      "Now running model: Hidden-size 30,  lookback 10\n",
      "Early stopping at epoch 17 with validation loss: 0.0031041675531191795\n"
     ]
    }
   ],
   "source": [
    "# use the same parameters \n",
    "#\n",
    "model = 'blstm'\n",
    "\n",
    "best_params, best_historical_losses, best_val_loss, \\\n",
    "                        best_model, historical_losses = grid_search_model(X_mm, y_mm, model, **model_params)\n",
    "\n",
    "blstm_dict = {\n",
    "    'best_params': best_params,\n",
    "    'best_historical_losses': best_historical_losses,\n",
    "    'best_val_loss': best_val_loss,\n",
    "    'best_model': best_model,\n",
    "    'historical_losses': historical_losses,\n",
    "}"
   ]
  },
  {
   "cell_type": "code",
   "execution_count": 44,
   "metadata": {},
   "outputs": [
    {
     "name": "stdout",
     "output_type": "stream",
     "text": [
      "NN model is :  blstm\n",
      "\n",
      "#-------------------------------\n",
      "Comparison between the groundtruth and our predictions\n",
      "MSE: 26313.399411\n",
      "MAE: 109.578382\n",
      "RMSE: 162.214054\n",
      "MAPE: 14.772730\n",
      "\n",
      "#-------------------------------\n",
      "Comparison between groundtruth and the shifted y_array\n",
      "MSE: 26525.366931\n",
      "MAE: 109.795755\n",
      "RMSE: 162.866101\n",
      "MAPE: 0.565652\n"
     ]
    }
   ],
   "source": [
    "result, value_y_test, y_groundtruth, _ = create_test_arrays(X_test_tensors_final, df, best_model, mm)\n",
    "\n",
    "print(\"NN model is : \", model)\n",
    "print('\\n#-------------------------------')\n",
    "print('Comparison between the groundtruth and our predictions')\n",
    "(mse, mae, rmse, mape) = compute_metrics(y_groundtruth, result)\n",
    "days_1[str(model)] = (mse, mae, rmse, mape)\n",
    "\n",
    "print('\\n#-------------------------------')\n",
    "print('Comparison between groundtruth and the shifted y_array')\n",
    "_ = compute_metrics(y_groundtruth, value_y_test)"
   ]
  },
  {
   "cell_type": "code",
   "execution_count": 45,
   "metadata": {},
   "outputs": [
    {
     "name": "stdout",
     "output_type": "stream",
     "text": [
      "MSE: 8046.692197\n",
      "MAE: 62.079220\n",
      "RMSE: 89.703357\n",
      "MAPE: 0.318055\n"
     ]
    }
   ],
   "source": [
    "# 3-day analysis \n",
    "result, value_y_test, y_groundtruth\n",
    "N = 3\n",
    "ret_N = create_N_day_mean(pd.Series(result), N)\n",
    "gt_N = create_N_day_mean(pd.Series(y_groundtruth), N)\n",
    "\n",
    "(mse, mae, rmse, mape) = compute_metrics(ret_N, gt_N)\n",
    "days_3[str(model)] = (mse, mae, rmse, mape)"
   ]
  },
  {
   "cell_type": "code",
   "execution_count": 46,
   "metadata": {},
   "outputs": [
    {
     "name": "stdout",
     "output_type": "stream",
     "text": [
      "MSE: 3306.719349\n",
      "MAE: 41.341636\n",
      "RMSE: 57.504081\n",
      "MAPE: 0.211120\n"
     ]
    }
   ],
   "source": [
    "# 7-day analysis \n",
    "N = 7\n",
    "ret_N = create_N_day_mean(pd.Series(result), N)\n",
    "gt_N = create_N_day_mean(pd.Series(y_groundtruth), N)\n",
    "\n",
    "(mse, mae, rmse, mape) = compute_metrics(ret_N, gt_N)\n",
    "days_7[str(model)] = (mse, mae, rmse, mape)"
   ]
  },
  {
   "cell_type": "markdown",
   "metadata": {},
   "source": [
    "## Stacked LSTM"
   ]
  },
  {
   "cell_type": "code",
   "execution_count": 47,
   "metadata": {},
   "outputs": [
    {
     "name": "stdout",
     "output_type": "stream",
     "text": [
      "#-------------------------\n",
      "Now running model: Hidden-size 5,  lookback 1\n"
     ]
    },
    {
     "name": "stdout",
     "output_type": "stream",
     "text": [
      "Early stopping at epoch 49 with validation loss: 0.0030781843446808436\n",
      "#-------------------------\n",
      "Now running model: Hidden-size 15,  lookback 1\n",
      "Early stopping at epoch 13 with validation loss: 0.0030837780327490735\n",
      "#-------------------------\n",
      "Now running model: Hidden-size 30,  lookback 1\n",
      "Early stopping at epoch 12 with validation loss: 0.003094546958270324\n",
      "#-------------------------\n",
      "Now running model: Hidden-size 5,  lookback 5\n",
      "Early stopping at epoch 16 with validation loss: 0.0030989571170676952\n",
      "#-------------------------\n",
      "Now running model: Hidden-size 15,  lookback 5\n",
      "Early stopping at epoch 13 with validation loss: 0.0030966800830622273\n",
      "#-------------------------\n",
      "Now running model: Hidden-size 30,  lookback 5\n",
      "Early stopping at epoch 12 with validation loss: 0.0031008604948022742\n",
      "#-------------------------\n",
      "Now running model: Hidden-size 5,  lookback 10\n",
      "Early stopping at epoch 13 with validation loss: 0.003099291974383338\n",
      "#-------------------------\n",
      "Now running model: Hidden-size 15,  lookback 10\n",
      "Early stopping at epoch 21 with validation loss: 0.003095978934874349\n",
      "#-------------------------\n",
      "Now running model: Hidden-size 30,  lookback 10\n",
      "Early stopping at epoch 13 with validation loss: 0.0030977590216846184\n"
     ]
    }
   ],
   "source": [
    "#\n",
    "model = 'stackedlstm'\n",
    "\n",
    "best_params, best_historical_losses, best_val_loss, \\\n",
    "                        best_model, historical_losses = grid_search_model(X_mm, y_mm, model, **model_params)\n",
    "\n",
    "stackedlstm_dict = {\n",
    "    'best_params': best_params,\n",
    "    'best_historical_losses': best_historical_losses,\n",
    "    'best_val_loss': best_val_loss,\n",
    "    'best_model': best_model,\n",
    "    'historical_losses': historical_losses,\n",
    "}"
   ]
  },
  {
   "cell_type": "code",
   "execution_count": 48,
   "metadata": {},
   "outputs": [
    {
     "name": "stdout",
     "output_type": "stream",
     "text": [
      "NN model is :  stackedlstm\n",
      "\n",
      "#-------------------------------\n",
      "Comparison between the groundtruth and our predictions\n",
      "MSE: 26255.604201\n",
      "MAE: 110.582681\n",
      "RMSE: 162.035811\n",
      "MAPE: 14.767716\n",
      "\n",
      "#-------------------------------\n",
      "Comparison between groundtruth and the shifted y_array\n",
      "MSE: 26525.366931\n",
      "MAE: 109.795755\n",
      "RMSE: 162.866101\n",
      "MAPE: 0.565652\n"
     ]
    }
   ],
   "source": [
    "result, value_y_test, y_groundtruth, _ = create_test_arrays(X_test_tensors_final, df, best_model, mm)\n",
    "\n",
    "print(\"NN model is : \", model)\n",
    "print('\\n#-------------------------------')\n",
    "print('Comparison between the groundtruth and our predictions')\n",
    "(mse, mae, rmse, mape) = compute_metrics(y_groundtruth, result)\n",
    "days_1[str(model)] = (mse, mae, rmse, mape)\n",
    "\n",
    "print('\\n#-------------------------------')\n",
    "print('Comparison between groundtruth and the shifted y_array')\n",
    "_ = compute_metrics(y_groundtruth, value_y_test)"
   ]
  },
  {
   "cell_type": "code",
   "execution_count": 49,
   "metadata": {},
   "outputs": [
    {
     "name": "stdout",
     "output_type": "stream",
     "text": [
      "MSE: 8201.706048\n",
      "MAE: 63.274989\n",
      "RMSE: 90.563271\n",
      "MAPE: 0.324420\n"
     ]
    }
   ],
   "source": [
    "# 3-day analysis \n",
    "result, value_y_test, y_groundtruth\n",
    "N = 3\n",
    "ret_N = create_N_day_mean(pd.Series(result), N)\n",
    "gt_N = create_N_day_mean(pd.Series(y_groundtruth), N)\n",
    "\n",
    "(mse, mae, rmse, mape) = compute_metrics(ret_N, gt_N)\n",
    "days_3[str(model)] = (mse, mae, rmse, mape)"
   ]
  },
  {
   "cell_type": "code",
   "execution_count": 50,
   "metadata": {},
   "outputs": [
    {
     "name": "stdout",
     "output_type": "stream",
     "text": [
      "MSE: 3457.887464\n",
      "MAE: 43.312774\n",
      "RMSE: 58.803805\n",
      "MAPE: 0.220860\n"
     ]
    }
   ],
   "source": [
    "# 7-day analysis \n",
    "N = 7\n",
    "ret_N = create_N_day_mean(pd.Series(result), N)\n",
    "gt_N = create_N_day_mean(pd.Series(y_groundtruth), N)\n",
    "\n",
    "(mse, mae, rmse, mape) = compute_metrics(ret_N, gt_N)\n",
    "days_7[str(model)] = (mse, mae, rmse, mape)"
   ]
  },
  {
   "cell_type": "markdown",
   "metadata": {},
   "source": [
    "# Data aggregation"
   ]
  },
  {
   "cell_type": "code",
   "execution_count": 51,
   "metadata": {},
   "outputs": [],
   "source": [
    "# DICTS\n",
    "# days_1 = dict()\n",
    "# days_3 = dict()\n",
    "# days_7 = dict()"
   ]
  },
  {
   "cell_type": "code",
   "execution_count": 62,
   "metadata": {},
   "outputs": [],
   "source": [
    "days1df = pd.DataFrame(days_1, index=['mse', 'mae', 'rmse', 'mape'])\n",
    "days3df = pd.DataFrame(days_3, index=['mse', 'mae', 'rmse', 'mape'])\n",
    "days7df = pd.DataFrame(days_7, index=['mse', 'mae', 'rmse', 'mape'])"
   ]
  },
  {
   "cell_type": "code",
   "execution_count": 60,
   "metadata": {},
   "outputs": [
    {
     "data": {
      "text/html": [
       "<style type=\"text/css\">\n",
       "#T_30864_row0_col0, #T_30864_row1_col0, #T_30864_row2_col0, #T_30864_row3_col4 {\n",
       "  font-weight: bold;\n",
       "}\n",
       "#T_30864_row0_col4, #T_30864_row1_col3, #T_30864_row2_col4, #T_30864_row3_col1 {\n",
       "  text-decoration: underline;\n",
       "}\n",
       "</style>\n",
       "<table id=\"T_30864\">\n",
       "  <thead>\n",
       "    <tr>\n",
       "      <th class=\"blank level0\" >&nbsp;</th>\n",
       "      <th id=\"T_30864_level0_col0\" class=\"col_heading level0 col0\" >lstm</th>\n",
       "      <th id=\"T_30864_level0_col1\" class=\"col_heading level0 col1\" >rnn</th>\n",
       "      <th id=\"T_30864_level0_col2\" class=\"col_heading level0 col2\" >gru</th>\n",
       "      <th id=\"T_30864_level0_col3\" class=\"col_heading level0 col3\" >blstm</th>\n",
       "      <th id=\"T_30864_level0_col4\" class=\"col_heading level0 col4\" >stackedlstm</th>\n",
       "    </tr>\n",
       "  </thead>\n",
       "  <tbody>\n",
       "    <tr>\n",
       "      <th id=\"T_30864_level0_row0\" class=\"row_heading level0 row0\" >mse</th>\n",
       "      <td id=\"T_30864_row0_col0\" class=\"data row0 col0\" >25911.685790</td>\n",
       "      <td id=\"T_30864_row0_col1\" class=\"data row0 col1\" >28410.549331</td>\n",
       "      <td id=\"T_30864_row0_col2\" class=\"data row0 col2\" >28333.846864</td>\n",
       "      <td id=\"T_30864_row0_col3\" class=\"data row0 col3\" >26313.399411</td>\n",
       "      <td id=\"T_30864_row0_col4\" class=\"data row0 col4\" >26255.604201</td>\n",
       "    </tr>\n",
       "    <tr>\n",
       "      <th id=\"T_30864_level0_row1\" class=\"row_heading level0 row1\" >mae</th>\n",
       "      <td id=\"T_30864_row1_col0\" class=\"data row1 col0\" >109.015798</td>\n",
       "      <td id=\"T_30864_row1_col1\" class=\"data row1 col1\" >115.362724</td>\n",
       "      <td id=\"T_30864_row1_col2\" class=\"data row1 col2\" >116.380810</td>\n",
       "      <td id=\"T_30864_row1_col3\" class=\"data row1 col3\" >109.578382</td>\n",
       "      <td id=\"T_30864_row1_col4\" class=\"data row1 col4\" >110.582681</td>\n",
       "    </tr>\n",
       "    <tr>\n",
       "      <th id=\"T_30864_level0_row2\" class=\"row_heading level0 row2\" >rmse</th>\n",
       "      <td id=\"T_30864_row2_col0\" class=\"data row2 col0\" >160.971071</td>\n",
       "      <td id=\"T_30864_row2_col1\" class=\"data row2 col1\" >168.554292</td>\n",
       "      <td id=\"T_30864_row2_col2\" class=\"data row2 col2\" >168.326608</td>\n",
       "      <td id=\"T_30864_row2_col3\" class=\"data row2 col3\" >162.214054</td>\n",
       "      <td id=\"T_30864_row2_col4\" class=\"data row2 col4\" >162.035811</td>\n",
       "    </tr>\n",
       "    <tr>\n",
       "      <th id=\"T_30864_level0_row3\" class=\"row_heading level0 row3\" >mape</th>\n",
       "      <td id=\"T_30864_row3_col0\" class=\"data row3 col0\" >14.776665</td>\n",
       "      <td id=\"T_30864_row3_col1\" class=\"data row3 col1\" >14.767986</td>\n",
       "      <td id=\"T_30864_row3_col2\" class=\"data row3 col2\" >14.770384</td>\n",
       "      <td id=\"T_30864_row3_col3\" class=\"data row3 col3\" >14.772730</td>\n",
       "      <td id=\"T_30864_row3_col4\" class=\"data row3 col4\" >14.767716</td>\n",
       "    </tr>\n",
       "  </tbody>\n",
       "</table>\n"
      ],
      "text/plain": [
       "<pandas.io.formats.style.Styler at 0x7fa22d45c670>"
      ]
     },
     "execution_count": 60,
     "metadata": {},
     "output_type": "execute_result"
    }
   ],
   "source": [
    "def highlight_min_and_second_min(s):\n",
    "    sorted_vals = sorted(s)\n",
    "    min_val = sorted_vals[0]  # Get the lowest value in each row\n",
    "    second_min_val = sorted_vals[1]  # Get the second lowest value in each row\n",
    "    is_min = s == min_val\n",
    "    is_second_min = s == second_min_val\n",
    "    styles = ['font-weight: bold' if v else '' for v in is_min]\n",
    "    for i, v in enumerate(is_second_min):\n",
    "        if v:\n",
    "            styles[i] += 'text-decoration: underline'\n",
    "    return styles\n",
    "\n",
    "styled_df = days1df.style.apply(highlight_min_and_second_min, axis=1)\n",
    "\n",
    "# Display styled DataFrame\n",
    "styled_df"
   ]
  },
  {
   "cell_type": "code",
   "execution_count": 63,
   "metadata": {},
   "outputs": [
    {
     "data": {
      "text/html": [
       "<style type=\"text/css\">\n",
       "#T_00b89_row0_col0, #T_00b89_row1_col0, #T_00b89_row2_col0, #T_00b89_row3_col0 {\n",
       "  text-decoration: underline;\n",
       "}\n",
       "#T_00b89_row0_col3, #T_00b89_row1_col3, #T_00b89_row2_col3, #T_00b89_row3_col3 {\n",
       "  font-weight: bold;\n",
       "}\n",
       "</style>\n",
       "<table id=\"T_00b89\">\n",
       "  <thead>\n",
       "    <tr>\n",
       "      <th class=\"blank level0\" >&nbsp;</th>\n",
       "      <th id=\"T_00b89_level0_col0\" class=\"col_heading level0 col0\" >lstm</th>\n",
       "      <th id=\"T_00b89_level0_col1\" class=\"col_heading level0 col1\" >rnn</th>\n",
       "      <th id=\"T_00b89_level0_col2\" class=\"col_heading level0 col2\" >gru</th>\n",
       "      <th id=\"T_00b89_level0_col3\" class=\"col_heading level0 col3\" >blstm</th>\n",
       "      <th id=\"T_00b89_level0_col4\" class=\"col_heading level0 col4\" >stackedlstm</th>\n",
       "    </tr>\n",
       "  </thead>\n",
       "  <tbody>\n",
       "    <tr>\n",
       "      <th id=\"T_00b89_level0_row0\" class=\"row_heading level0 row0\" >mse</th>\n",
       "      <td id=\"T_00b89_row0_col0\" class=\"data row0 col0\" >8099.274320</td>\n",
       "      <td id=\"T_00b89_row0_col1\" class=\"data row0 col1\" >8478.803478</td>\n",
       "      <td id=\"T_00b89_row0_col2\" class=\"data row0 col2\" >9052.238500</td>\n",
       "      <td id=\"T_00b89_row0_col3\" class=\"data row0 col3\" >8046.692197</td>\n",
       "      <td id=\"T_00b89_row0_col4\" class=\"data row0 col4\" >8201.706048</td>\n",
       "    </tr>\n",
       "    <tr>\n",
       "      <th id=\"T_00b89_level0_row1\" class=\"row_heading level0 row1\" >mae</th>\n",
       "      <td id=\"T_00b89_row1_col0\" class=\"data row1 col0\" >62.127983</td>\n",
       "      <td id=\"T_00b89_row1_col1\" class=\"data row1 col1\" >64.948788</td>\n",
       "      <td id=\"T_00b89_row1_col2\" class=\"data row1 col2\" >67.235335</td>\n",
       "      <td id=\"T_00b89_row1_col3\" class=\"data row1 col3\" >62.079220</td>\n",
       "      <td id=\"T_00b89_row1_col4\" class=\"data row1 col4\" >63.274989</td>\n",
       "    </tr>\n",
       "    <tr>\n",
       "      <th id=\"T_00b89_level0_row2\" class=\"row_heading level0 row2\" >rmse</th>\n",
       "      <td id=\"T_00b89_row2_col0\" class=\"data row2 col0\" >89.995968</td>\n",
       "      <td id=\"T_00b89_row2_col1\" class=\"data row2 col1\" >92.080419</td>\n",
       "      <td id=\"T_00b89_row2_col2\" class=\"data row2 col2\" >95.143253</td>\n",
       "      <td id=\"T_00b89_row2_col3\" class=\"data row2 col3\" >89.703357</td>\n",
       "      <td id=\"T_00b89_row2_col4\" class=\"data row2 col4\" >90.563271</td>\n",
       "    </tr>\n",
       "    <tr>\n",
       "      <th id=\"T_00b89_level0_row3\" class=\"row_heading level0 row3\" >mape</th>\n",
       "      <td id=\"T_00b89_row3_col0\" class=\"data row3 col0\" >0.318137</td>\n",
       "      <td id=\"T_00b89_row3_col1\" class=\"data row3 col1\" >0.332697</td>\n",
       "      <td id=\"T_00b89_row3_col2\" class=\"data row3 col2\" >0.342894</td>\n",
       "      <td id=\"T_00b89_row3_col3\" class=\"data row3 col3\" >0.318055</td>\n",
       "      <td id=\"T_00b89_row3_col4\" class=\"data row3 col4\" >0.324420</td>\n",
       "    </tr>\n",
       "  </tbody>\n",
       "</table>\n"
      ],
      "text/plain": [
       "<pandas.io.formats.style.Styler at 0x7fa22d45d390>"
      ]
     },
     "execution_count": 63,
     "metadata": {},
     "output_type": "execute_result"
    }
   ],
   "source": [
    "styled_df = days3df.style.apply(highlight_min_and_second_min, axis=1)\n",
    "\n",
    "# Display styled DataFrame\n",
    "styled_df"
   ]
  },
  {
   "cell_type": "code",
   "execution_count": 64,
   "metadata": {},
   "outputs": [
    {
     "data": {
      "text/html": [
       "<style type=\"text/css\">\n",
       "#T_df413_row0_col0, #T_df413_row1_col0, #T_df413_row2_col0, #T_df413_row3_col0 {\n",
       "  text-decoration: underline;\n",
       "}\n",
       "#T_df413_row0_col3, #T_df413_row1_col3, #T_df413_row2_col3, #T_df413_row3_col3 {\n",
       "  font-weight: bold;\n",
       "}\n",
       "</style>\n",
       "<table id=\"T_df413\">\n",
       "  <thead>\n",
       "    <tr>\n",
       "      <th class=\"blank level0\" >&nbsp;</th>\n",
       "      <th id=\"T_df413_level0_col0\" class=\"col_heading level0 col0\" >lstm</th>\n",
       "      <th id=\"T_df413_level0_col1\" class=\"col_heading level0 col1\" >rnn</th>\n",
       "      <th id=\"T_df413_level0_col2\" class=\"col_heading level0 col2\" >gru</th>\n",
       "      <th id=\"T_df413_level0_col3\" class=\"col_heading level0 col3\" >blstm</th>\n",
       "      <th id=\"T_df413_level0_col4\" class=\"col_heading level0 col4\" >stackedlstm</th>\n",
       "    </tr>\n",
       "  </thead>\n",
       "  <tbody>\n",
       "    <tr>\n",
       "      <th id=\"T_df413_level0_row0\" class=\"row_heading level0 row0\" >mse</th>\n",
       "      <td id=\"T_df413_row0_col0\" class=\"data row0 col0\" >3418.565435</td>\n",
       "      <td id=\"T_df413_row0_col1\" class=\"data row0 col1\" >3715.980535</td>\n",
       "      <td id=\"T_df413_row0_col2\" class=\"data row0 col2\" >4046.237684</td>\n",
       "      <td id=\"T_df413_row0_col3\" class=\"data row0 col3\" >3306.719349</td>\n",
       "      <td id=\"T_df413_row0_col4\" class=\"data row0 col4\" >3457.887464</td>\n",
       "    </tr>\n",
       "    <tr>\n",
       "      <th id=\"T_df413_level0_row1\" class=\"row_heading level0 row1\" >mae</th>\n",
       "      <td id=\"T_df413_row1_col0\" class=\"data row1 col0\" >41.419315</td>\n",
       "      <td id=\"T_df413_row1_col1\" class=\"data row1 col1\" >45.121991</td>\n",
       "      <td id=\"T_df413_row1_col2\" class=\"data row1 col2\" >47.501975</td>\n",
       "      <td id=\"T_df413_row1_col3\" class=\"data row1 col3\" >41.341636</td>\n",
       "      <td id=\"T_df413_row1_col4\" class=\"data row1 col4\" >43.312774</td>\n",
       "    </tr>\n",
       "    <tr>\n",
       "      <th id=\"T_df413_level0_row2\" class=\"row_heading level0 row2\" >rmse</th>\n",
       "      <td id=\"T_df413_row2_col0\" class=\"data row2 col0\" >58.468500</td>\n",
       "      <td id=\"T_df413_row2_col1\" class=\"data row2 col1\" >60.958843</td>\n",
       "      <td id=\"T_df413_row2_col2\" class=\"data row2 col2\" >63.610044</td>\n",
       "      <td id=\"T_df413_row2_col3\" class=\"data row2 col3\" >57.504081</td>\n",
       "      <td id=\"T_df413_row2_col4\" class=\"data row2 col4\" >58.803805</td>\n",
       "    </tr>\n",
       "    <tr>\n",
       "      <th id=\"T_df413_level0_row3\" class=\"row_heading level0 row3\" >mape</th>\n",
       "      <td id=\"T_df413_row3_col0\" class=\"data row3 col0\" >0.211605</td>\n",
       "      <td id=\"T_df413_row3_col1\" class=\"data row3 col1\" >0.229660</td>\n",
       "      <td id=\"T_df413_row3_col2\" class=\"data row3 col2\" >0.240289</td>\n",
       "      <td id=\"T_df413_row3_col3\" class=\"data row3 col3\" >0.211120</td>\n",
       "      <td id=\"T_df413_row3_col4\" class=\"data row3 col4\" >0.220860</td>\n",
       "    </tr>\n",
       "  </tbody>\n",
       "</table>\n"
      ],
      "text/plain": [
       "<pandas.io.formats.style.Styler at 0x7fa22d45edd0>"
      ]
     },
     "execution_count": 64,
     "metadata": {},
     "output_type": "execute_result"
    }
   ],
   "source": [
    "styled_df = days7df.style.apply(highlight_min_and_second_min, axis=1)\n",
    "\n",
    "# Display styled DataFrame\n",
    "styled_df"
   ]
  }
 ],
 "metadata": {
  "kernelspec": {
   "display_name": "kh_base",
   "language": "python",
   "name": "python3"
  },
  "language_info": {
   "codemirror_mode": {
    "name": "ipython",
    "version": 3
   },
   "file_extension": ".py",
   "mimetype": "text/x-python",
   "name": "python",
   "nbconvert_exporter": "python",
   "pygments_lexer": "ipython3",
   "version": "3.10.13"
  }
 },
 "nbformat": 4,
 "nbformat_minor": 2
}
