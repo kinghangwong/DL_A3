{
 "cells": [
  {
   "cell_type": "code",
   "execution_count": 33,
   "metadata": {},
   "outputs": [],
   "source": [
    "import numpy as np\n",
    "import pandas as pd\n",
    "import matplotlib.pyplot as plt\n",
    "import torch #pytorch\n",
    "import torch.nn as nn\n",
    "from torch.autograd import Variable\n",
    "from helper_functions import *"
   ]
  },
  {
   "cell_type": "markdown",
   "metadata": {},
   "source": [
    "# Benchmarking:\n",
    "\n",
    "January 2, 1991 to April 30, 2018\n",
    "\n",
    "- DJIA  \n",
    "* First 4500 days is training\n",
    "* Next 1300 days is validation\n",
    "* The rest is testing"
   ]
  },
  {
   "cell_type": "code",
   "execution_count": 34,
   "metadata": {},
   "outputs": [],
   "source": [
    "####### EXPERIMENT DEPENDENT\n",
    "WINDOW_SIZE = 20  # SAME AS ZHANG ET AL.\n",
    "\n",
    "####### DO NOT CHANGE BELOW\n",
    "TRAIN_END = 4500\n",
    "VAL_END = 4500 + 1300\n",
    "SEQ_LEN = WINDOW_SIZE\n"
   ]
  },
  {
   "cell_type": "markdown",
   "metadata": {},
   "source": [
    "## DJIA"
   ]
  },
  {
   "cell_type": "code",
   "execution_count": 35,
   "metadata": {},
   "outputs": [
    {
     "name": "stdout",
     "output_type": "stream",
     "text": [
      "6884\n"
     ]
    }
   ],
   "source": [
    "PATH = \"^IXIC1991_2018.csv\"\n",
    "df = pd.read_csv(PATH, index_col = 'Date', parse_dates=True)\n",
    "df.head(5) ; print(len(df))"
   ]
  },
  {
   "cell_type": "markdown",
   "metadata": {},
   "source": [
    "### **Modify all input columns into residual**\n",
    "\n",
    "**Use previous day columns (including closing price) to predict next day results**"
   ]
  },
  {
   "cell_type": "code",
   "execution_count": 36,
   "metadata": {},
   "outputs": [
    {
     "name": "stdout",
     "output_type": "stream",
     "text": [
      "6884\n",
      "(6883, 6)\n",
      "(6883,)\n",
      "6882 6882\n",
      "(6882, 6) (6882,)\n"
     ]
    }
   ],
   "source": [
    "print(len(df))\n",
    "X = apply_residual_change(df); print(X.shape);\n",
    "y = apply_residual_change(df['Close']); print(y.shape)\n",
    "\n",
    "X, y = build_base_X_y_difference(X, y); print(X.shape, y.shape)\n",
    "\n",
    "y = y.reshape(-1, 1)\n",
    "\n",
    "assert X.shape[0] == len(df)-2, \"ERROR: SOME OPERATION ERROR DURING DATA ENGINEERING\"\n",
    "assert X.shape[0] == y.shape[0], \"ERROR : X AND y HAVE DIFFERENT LEN\"\n",
    "\n",
    "USABLE_DATA_LEN = X.shape[0]"
   ]
  },
  {
   "cell_type": "markdown",
   "metadata": {},
   "source": [
    "Transform the data to between 0 - 1 so the network converges faster"
   ]
  },
  {
   "cell_type": "code",
   "execution_count": 37,
   "metadata": {},
   "outputs": [],
   "source": [
    "from sklearn.preprocessing import StandardScaler, MinMaxScaler\n",
    "mm = MinMaxScaler()     # minMax on the y for quicker learning. More suitable than SS\n",
    "\n",
    "X_mm = mm.fit_transform(X)\n",
    "y_mm = mm.fit_transform(y) "
   ]
  },
  {
   "cell_type": "markdown",
   "metadata": {},
   "source": [
    "##### Train_val_test"
   ]
  },
  {
   "cell_type": "code",
   "execution_count": 38,
   "metadata": {},
   "outputs": [],
   "source": [
    "X_train_tensors_final, X_val_tensors_final, X_test_tensors_final, \\\n",
    "    y_train_tensors, y_val_tensors, y_test_tensors = create_datatensors(X_mm, y_mm)"
   ]
  },
  {
   "cell_type": "code",
   "execution_count": 39,
   "metadata": {},
   "outputs": [
    {
     "name": "stdout",
     "output_type": "stream",
     "text": [
      "Training Shape torch.Size([4500, 20, 6]) torch.Size([4500, 1])\n",
      "Testing Shape torch.Size([1300, 20, 6]) torch.Size([1300, 1])\n",
      "Testing Shape torch.Size([1062, 20, 6]) torch.Size([1062, 1])\n"
     ]
    }
   ],
   "source": [
    "print(\"Training Shape\", X_train_tensors_final.shape, y_train_tensors.shape)\n",
    "print(\"Testing Shape\", X_val_tensors_final.shape, y_val_tensors.shape)\n",
    "print(\"Testing Shape\", X_test_tensors_final.shape, y_test_tensors.shape)"
   ]
  },
  {
   "cell_type": "code",
   "execution_count": 40,
   "metadata": {},
   "outputs": [],
   "source": [
    "a = len(X_test_tensors_final) + len(X_train_tensors_final) + len(X_val_tensors_final)\n",
    "b = len(y_test_tensors) + len(y_train_tensors) + len(y_val_tensors)\n",
    "assert a == b, \"X AND Y UNEQUAL LEN\"\n",
    "\n",
    "USABLE_DATA_LEN =  len(X_test_tensors_final) + len(X_train_tensors_final) + len(X_val_tensors_final)"
   ]
  },
  {
   "cell_type": "markdown",
   "metadata": {},
   "source": [
    "#### GridSearch"
   ]
  },
  {
   "cell_type": "code",
   "execution_count": 41,
   "metadata": {},
   "outputs": [
    {
     "name": "stdout",
     "output_type": "stream",
     "text": [
      "#-------------------------\n",
      "Now running model: Hidden-size 5,  lookback 1\n"
     ]
    },
    {
     "name": "stdout",
     "output_type": "stream",
     "text": [
      "Early stopping at epoch 13 with validation loss: 0.0021773412420482536\n",
      "#-------------------------\n",
      "Now running model: Hidden-size 15,  lookback 1\n",
      "Early stopping at epoch 16 with validation loss: 0.002180266540452111\n",
      "#-------------------------\n",
      "Now running model: Hidden-size 30,  lookback 1\n",
      "Early stopping at epoch 17 with validation loss: 0.002177874316325093\n",
      "#-------------------------\n",
      "Now running model: Hidden-size 5,  lookback 5\n",
      "Early stopping at epoch 13 with validation loss: 0.002180086302559641\n",
      "#-------------------------\n",
      "Now running model: Hidden-size 15,  lookback 5\n",
      "Early stopping at epoch 12 with validation loss: 0.0022105662984114776\n",
      "#-------------------------\n",
      "Now running model: Hidden-size 30,  lookback 5\n",
      "Early stopping at epoch 12 with validation loss: 0.0022100723751752476\n",
      "#-------------------------\n",
      "Now running model: Hidden-size 5,  lookback 10\n",
      "Early stopping at epoch 32 with validation loss: 0.002215237725844107\n",
      "#-------------------------\n",
      "Now running model: Hidden-size 15,  lookback 10\n",
      "Early stopping at epoch 25 with validation loss: 0.002224887427362818\n",
      "#-------------------------\n",
      "Now running model: Hidden-size 30,  lookback 10\n",
      "Early stopping at epoch 28 with validation loss: 0.0022279400656726664\n"
     ]
    }
   ],
   "source": [
    "model_params = {\n",
    "        'input_size': 6,\n",
    "        'num_layers': 1,\n",
    "        'num_classes': 1,\n",
    "        'criterion': torch.nn.MSELoss(),\n",
    "        'learning_rate': 0.001,\n",
    "        'hidden_sizes': [5, 15, 30],\n",
    "        'lookback': [1, 5, 10],\n",
    "        'sequence_len': 20\n",
    "    }\n",
    "\n",
    "model = 'lstm'\n",
    "\n",
    "best_params, best_historical_losses, best_val_loss, \\\n",
    "                        best_model, historical_losses = grid_search_model(X_mm, y_mm, model, **model_params)\n",
    "\n",
    "lstm_dict = {\n",
    "    'best_params': best_params,\n",
    "    'best_historical_losses': best_historical_losses,\n",
    "    'best_val_loss': best_val_loss,\n",
    "    'best_model': best_model,\n",
    "    'historical_losses': historical_losses,\n",
    "}"
   ]
  },
  {
   "cell_type": "markdown",
   "metadata": {},
   "source": [
    "##### Inverse compute Price Graph"
   ]
  },
  {
   "cell_type": "markdown",
   "metadata": {},
   "source": [
    "How to compute?\n",
    "\n",
    "Since we will **always** have access to the figures from yesterday, it means we will multiply the previous day 'Close' price with the predicted ratio."
   ]
  },
  {
   "cell_type": "code",
   "execution_count": 42,
   "metadata": {},
   "outputs": [],
   "source": [
    "# Create Dicts to store results\n",
    "days_1 = dict()\n",
    "days_3 = dict()\n",
    "days_7 = dict()"
   ]
  },
  {
   "cell_type": "code",
   "execution_count": 43,
   "metadata": {},
   "outputs": [
    {
     "name": "stdout",
     "output_type": "stream",
     "text": [
      "NN model is :  lstm\n",
      "\n",
      "#-------------------------------\n",
      "Comparison between the groundtruth and our predictions\n",
      "MSE: 2538.048141\n",
      "MAE: 35.603067\n",
      "RMSE: 50.379045\n",
      "MAPE: 18.070072\n",
      "\n",
      "#-------------------------------\n",
      "Comparison between groundtruth and the shifted y_array\n",
      "MSE: 2536.715789\n",
      "MAE: 35.620489\n",
      "RMSE: 50.365820\n",
      "MAPE: 0.678493\n"
     ]
    }
   ],
   "source": [
    "result, value_y_test, y_groundtruth, _ = create_test_arrays(X_test_tensors_final, df, best_model, mm)\n",
    "\n",
    "print(\"NN model is : \", model)\n",
    "print('\\n#-------------------------------')\n",
    "print('Comparison between the groundtruth and our predictions')\n",
    "(mse, mae, rmse, mape) = compute_metrics(y_groundtruth, result)\n",
    "days_1[str(model)] = (mse, mae, rmse, mape)\n",
    "\n",
    "print('\\n#-------------------------------')\n",
    "print('Comparison between groundtruth and the shifted y_array')\n",
    "_ = compute_metrics(y_groundtruth, value_y_test)"
   ]
  },
  {
   "cell_type": "code",
   "execution_count": 44,
   "metadata": {},
   "outputs": [
    {
     "name": "stdout",
     "output_type": "stream",
     "text": [
      "MSE: 797.302163\n",
      "MAE: 20.495981\n",
      "RMSE: 28.236540\n",
      "MAPE: 0.391843\n"
     ]
    }
   ],
   "source": [
    "# 3-day analysis \n",
    "result, value_y_test, y_groundtruth\n",
    "N = 3\n",
    "ret_N = create_N_day_mean(pd.Series(result), N)\n",
    "gt_N = create_N_day_mean(pd.Series(y_groundtruth), N)\n",
    "\n",
    "(mse, mae, rmse, mape) = compute_metrics(ret_N, gt_N)\n",
    "days_3[str(model)] = (mse, mae, rmse, mape)"
   ]
  },
  {
   "cell_type": "code",
   "execution_count": 45,
   "metadata": {},
   "outputs": [
    {
     "name": "stdout",
     "output_type": "stream",
     "text": [
      "MSE: 304.103242\n",
      "MAE: 12.892552\n",
      "RMSE: 17.438556\n",
      "MAPE: 0.244412\n"
     ]
    }
   ],
   "source": [
    "# 7-day analysis \n",
    "N = 7\n",
    "ret_N = create_N_day_mean(pd.Series(result), N)\n",
    "gt_N = create_N_day_mean(pd.Series(y_groundtruth), N)\n",
    "\n",
    "(mse, mae, rmse, mape) = compute_metrics(ret_N, gt_N)\n",
    "days_7[str(model)] = (mse, mae, rmse, mape)"
   ]
  },
  {
   "cell_type": "markdown",
   "metadata": {},
   "source": [
    "##### plots"
   ]
  },
  {
   "cell_type": "code",
   "execution_count": 46,
   "metadata": {},
   "outputs": [
    {
     "data": {
      "image/png": "[encoded data removed]",
      "text/plain": [
       "<Figure size 640x480 with 1 Axes>"
      ]
     },
     "metadata": {},
     "output_type": "display_data"
    }
   ],
   "source": [
    "plt.plot(result, label = 'Predicted')\n",
    "plt.plot(y_groundtruth, label = 'True')\n",
    "plt.legend()\n",
    "plt.show()"
   ]
  },
  {
   "cell_type": "markdown",
   "metadata": {},
   "source": [
    "## RNN"
   ]
  },
  {
   "cell_type": "markdown",
   "metadata": {},
   "source": [
    "##### RNN"
   ]
  },
  {
   "cell_type": "code",
   "execution_count": 47,
   "metadata": {},
   "outputs": [
    {
     "name": "stdout",
     "output_type": "stream",
     "text": [
      "#-------------------------\n",
      "Now running model: Hidden-size 5,  lookback 1\n"
     ]
    },
    {
     "name": "stdout",
     "output_type": "stream",
     "text": [
      "Early stopping at epoch 23 with validation loss: 0.002240931635109208\n",
      "#-------------------------\n",
      "Now running model: Hidden-size 15,  lookback 1\n",
      "Early stopping at epoch 12 with validation loss: 0.0022591504214399655\n",
      "#-------------------------\n",
      "Now running model: Hidden-size 30,  lookback 1\n",
      "Early stopping at epoch 12 with validation loss: 0.0022825688399124616\n",
      "#-------------------------\n",
      "Now running model: Hidden-size 5,  lookback 5\n",
      "Early stopping at epoch 13 with validation loss: 0.002326535900043914\n",
      "#-------------------------\n",
      "Now running model: Hidden-size 15,  lookback 5\n",
      "Early stopping at epoch 13 with validation loss: 0.0023304192298205526\n",
      "#-------------------------\n",
      "Now running model: Hidden-size 30,  lookback 5\n",
      "Early stopping at epoch 17 with validation loss: 0.002338977760589886\n",
      "#-------------------------\n",
      "Now running model: Hidden-size 5,  lookback 10\n",
      "Early stopping at epoch 12 with validation loss: 0.0023454921305883767\n",
      "#-------------------------\n",
      "Now running model: Hidden-size 15,  lookback 10\n",
      "Early stopping at epoch 19 with validation loss: 0.002350448010341696\n",
      "#-------------------------\n",
      "Now running model: Hidden-size 30,  lookback 10\n",
      "Early stopping at epoch 13 with validation loss: 0.0023551220840933485\n"
     ]
    }
   ],
   "source": [
    "# use the same parameters as above\n",
    "#\n",
    "model = 'rnn'\n",
    "\n",
    "best_params, best_historical_losses, best_val_loss, \\\n",
    "                        best_model, historical_losses = grid_search_model(X_mm, y_mm, model, **model_params)\n",
    "\n",
    "rnn_dict = {\n",
    "    'best_params': best_params,\n",
    "    'best_historical_losses': best_historical_losses,\n",
    "    'best_val_loss': best_val_loss,\n",
    "    'best_model': best_model,\n",
    "    'historical_losses': historical_losses,\n",
    "}"
   ]
  },
  {
   "cell_type": "code",
   "execution_count": 48,
   "metadata": {},
   "outputs": [
    {
     "name": "stdout",
     "output_type": "stream",
     "text": [
      "NN model is :  rnn\n",
      "\n",
      "#-------------------------------\n",
      "Comparison between the groundtruth and our predictions\n",
      "MSE: 2823.256396\n",
      "MAE: 38.653617\n",
      "RMSE: 53.134324\n",
      "MAPE: 18.054337\n",
      "\n",
      "#-------------------------------\n",
      "Comparison between groundtruth and the shifted y_array\n",
      "MSE: 2536.715789\n",
      "MAE: 35.620489\n",
      "RMSE: 50.365820\n",
      "MAPE: 0.678493\n"
     ]
    }
   ],
   "source": [
    "result, value_y_test, y_groundtruth, _ = create_test_arrays(X_test_tensors_final, df, best_model, mm)\n",
    "\n",
    "print(\"NN model is : \", model)\n",
    "print('\\n#-------------------------------')\n",
    "print('Comparison between the groundtruth and our predictions')\n",
    "(mse, mae, rmse, mape) = compute_metrics(y_groundtruth, result)\n",
    "days_1[str(model)] = (mse, mae, rmse, mape)\n",
    "\n",
    "print('\\n#-------------------------------')\n",
    "print('Comparison between groundtruth and the shifted y_array')\n",
    "_ = compute_metrics(y_groundtruth, value_y_test)"
   ]
  },
  {
   "cell_type": "code",
   "execution_count": 49,
   "metadata": {},
   "outputs": [
    {
     "name": "stdout",
     "output_type": "stream",
     "text": [
      "MSE: 932.811240\n",
      "MAE: 23.617536\n",
      "RMSE: 30.541959\n",
      "MAPE: 0.451389\n"
     ]
    }
   ],
   "source": [
    "# 3-day analysis \n",
    "result, value_y_test, y_groundtruth\n",
    "N = 3\n",
    "ret_N = create_N_day_mean(pd.Series(result), N)\n",
    "gt_N = create_N_day_mean(pd.Series(y_groundtruth), N)\n",
    "\n",
    "(mse, mae, rmse, mape) = compute_metrics(ret_N, gt_N)\n",
    "days_3[str(model)] = (mse, mae, rmse, mape)"
   ]
  },
  {
   "cell_type": "code",
   "execution_count": 50,
   "metadata": {},
   "outputs": [
    {
     "name": "stdout",
     "output_type": "stream",
     "text": [
      "MSE: 449.008121\n",
      "MAE: 16.651774\n",
      "RMSE: 21.189812\n",
      "MAPE: 0.315611\n"
     ]
    }
   ],
   "source": [
    "# 7-day analysis \n",
    "N = 7\n",
    "ret_N = create_N_day_mean(pd.Series(result), N)\n",
    "gt_N = create_N_day_mean(pd.Series(y_groundtruth), N)\n",
    "\n",
    "(mse, mae, rmse, mape) = compute_metrics(ret_N, gt_N)\n",
    "days_7[str(model)] = (mse, mae, rmse, mape)"
   ]
  },
  {
   "cell_type": "markdown",
   "metadata": {},
   "source": [
    "## GRU"
   ]
  },
  {
   "cell_type": "code",
   "execution_count": 51,
   "metadata": {},
   "outputs": [
    {
     "name": "stdout",
     "output_type": "stream",
     "text": [
      "#-------------------------\n",
      "Now running model: Hidden-size 5,  lookback 1\n"
     ]
    },
    {
     "name": "stdout",
     "output_type": "stream",
     "text": [
      "Early stopping at epoch 21 with validation loss: 0.002190230973632779\n",
      "#-------------------------\n",
      "Now running model: Hidden-size 15,  lookback 1\n",
      "Early stopping at epoch 11 with validation loss: 0.002226286607499166\n",
      "#-------------------------\n",
      "Now running model: Hidden-size 30,  lookback 1\n",
      "Early stopping at epoch 12 with validation loss: 0.0022601577035923737\n",
      "#-------------------------\n",
      "Now running model: Hidden-size 5,  lookback 5\n",
      "Early stopping at epoch 13 with validation loss: 0.002328876468421119\n",
      "#-------------------------\n",
      "Now running model: Hidden-size 15,  lookback 5\n",
      "Early stopping at epoch 11 with validation loss: 0.002339693788643472\n",
      "#-------------------------\n",
      "Now running model: Hidden-size 30,  lookback 5\n",
      "Early stopping at epoch 18 with validation loss: 0.0023488258863458545\n",
      "#-------------------------\n",
      "Now running model: Hidden-size 5,  lookback 10\n",
      "Early stopping at epoch 16 with validation loss: 0.0023784427207940054\n",
      "#-------------------------\n",
      "Now running model: Hidden-size 15,  lookback 10\n",
      "Early stopping at epoch 12 with validation loss: 0.0023881781550987463\n",
      "#-------------------------\n",
      "Now running model: Hidden-size 30,  lookback 10\n",
      "Early stopping at epoch 11 with validation loss: 0.0023889583365128537\n"
     ]
    }
   ],
   "source": [
    "# use the same parameters as above\n",
    "#\n",
    "model = 'gru'\n",
    "\n",
    "best_params, best_historical_losses, best_val_loss, \\\n",
    "                        best_model, historical_losses = grid_search_model(X_mm, y_mm, model, **model_params)\n",
    "\n",
    "gru_dict = {\n",
    "    'best_params': best_params,\n",
    "    'best_historical_losses': best_historical_losses,\n",
    "    'best_val_loss': best_val_loss,\n",
    "    'best_model': best_model,\n",
    "    'historical_losses': historical_losses,\n",
    "}"
   ]
  },
  {
   "cell_type": "code",
   "execution_count": 52,
   "metadata": {},
   "outputs": [
    {
     "name": "stdout",
     "output_type": "stream",
     "text": [
      "NN model is :  gru\n",
      "\n",
      "#-------------------------------\n",
      "Comparison between the groundtruth and our predictions\n",
      "MSE: 2833.161433\n",
      "MAE: 38.014819\n",
      "RMSE: 53.227450\n",
      "MAPE: 18.072461\n",
      "\n",
      "#-------------------------------\n",
      "Comparison between groundtruth and the shifted y_array\n",
      "MSE: 2536.715789\n",
      "MAE: 35.620489\n",
      "RMSE: 50.365820\n",
      "MAPE: 0.678493\n"
     ]
    }
   ],
   "source": [
    "result, value_y_test, y_groundtruth, _ = create_test_arrays(X_test_tensors_final, df, best_model, mm)\n",
    "\n",
    "print(\"NN model is : \", model)\n",
    "print('\\n#-------------------------------')\n",
    "print('Comparison between the groundtruth and our predictions')\n",
    "(mse, mae, rmse, mape) = compute_metrics(y_groundtruth, result)\n",
    "days_1[str(model)] = (mse, mae, rmse, mape)\n",
    "\n",
    "print('\\n#-------------------------------')\n",
    "print('Comparison between groundtruth and the shifted y_array')\n",
    "_ = compute_metrics(y_groundtruth, value_y_test)"
   ]
  },
  {
   "cell_type": "code",
   "execution_count": 53,
   "metadata": {},
   "outputs": [
    {
     "name": "stdout",
     "output_type": "stream",
     "text": [
      "MSE: 911.320456\n",
      "MAE: 22.371204\n",
      "RMSE: 30.188085\n",
      "MAPE: 0.427634\n"
     ]
    }
   ],
   "source": [
    "# 3-day analysis \n",
    "result, value_y_test, y_groundtruth\n",
    "N = 3\n",
    "ret_N = create_N_day_mean(pd.Series(result), N)\n",
    "gt_N = create_N_day_mean(pd.Series(y_groundtruth), N)\n",
    "\n",
    "(mse, mae, rmse, mape) = compute_metrics(ret_N, gt_N)\n",
    "days_3[str(model)] = (mse, mae, rmse, mape)"
   ]
  },
  {
   "cell_type": "code",
   "execution_count": 54,
   "metadata": {},
   "outputs": [
    {
     "name": "stdout",
     "output_type": "stream",
     "text": [
      "MSE: 429.168749\n",
      "MAE: 15.157051\n",
      "RMSE: 20.716388\n",
      "MAPE: 0.286600\n"
     ]
    }
   ],
   "source": [
    "# 7-day analysis \n",
    "N = 7\n",
    "ret_N = create_N_day_mean(pd.Series(result), N)\n",
    "gt_N = create_N_day_mean(pd.Series(y_groundtruth), N)\n",
    "\n",
    "(mse, mae, rmse, mape) = compute_metrics(ret_N, gt_N)\n",
    "days_7[str(model)] = (mse, mae, rmse, mape)"
   ]
  },
  {
   "cell_type": "markdown",
   "metadata": {},
   "source": [
    "## Bi-LSTM"
   ]
  },
  {
   "cell_type": "code",
   "execution_count": 55,
   "metadata": {},
   "outputs": [
    {
     "name": "stdout",
     "output_type": "stream",
     "text": [
      "#-------------------------\n",
      "Now running model: Hidden-size 5,  lookback 1\n",
      "Early stopping at epoch 43 with validation loss: 0.002189041001767647\n",
      "#-------------------------\n",
      "Now running model: Hidden-size 15,  lookback 1\n",
      "Early stopping at epoch 14 with validation loss: 0.0021847052238427285\n",
      "#-------------------------\n",
      "Now running model: Hidden-size 30,  lookback 1\n",
      "Early stopping at epoch 21 with validation loss: 0.0021878639079925674\n",
      "#-------------------------\n",
      "Now running model: Hidden-size 5,  lookback 5\n",
      "Early stopping at epoch 17 with validation loss: 0.0021897308548299095\n",
      "#-------------------------\n",
      "Now running model: Hidden-size 15,  lookback 5\n",
      "Early stopping at epoch 18 with validation loss: 0.002190792578181661\n",
      "#-------------------------\n",
      "Now running model: Hidden-size 30,  lookback 5\n",
      "Early stopping at epoch 16 with validation loss: 0.0021905106614434683\n",
      "#-------------------------\n",
      "Now running model: Hidden-size 5,  lookback 10\n",
      "Early stopping at epoch 17 with validation loss: 0.002191669561775265\n",
      "#-------------------------\n",
      "Now running model: Hidden-size 15,  lookback 10\n",
      "Early stopping at epoch 13 with validation loss: 0.002192213448480044\n",
      "#-------------------------\n",
      "Now running model: Hidden-size 30,  lookback 10\n",
      "Early stopping at epoch 28 with validation loss: 0.0021952218929782693\n"
     ]
    }
   ],
   "source": [
    "# use the same parameters \n",
    "#\n",
    "model = 'blstm'\n",
    "\n",
    "best_params, best_historical_losses, best_val_loss, \\\n",
    "                        best_model, historical_losses = grid_search_model(X_mm, y_mm, model, **model_params)\n",
    "\n",
    "blstm_dict = {\n",
    "    'best_params': best_params,\n",
    "    'best_historical_losses': best_historical_losses,\n",
    "    'best_val_loss': best_val_loss,\n",
    "    'best_model': best_model,\n",
    "    'historical_losses': historical_losses,\n",
    "}"
   ]
  },
  {
   "cell_type": "code",
   "execution_count": 56,
   "metadata": {},
   "outputs": [
    {
     "name": "stdout",
     "output_type": "stream",
     "text": [
      "NN model is :  blstm\n",
      "\n",
      "#-------------------------------\n",
      "Comparison between the groundtruth and our predictions\n",
      "MSE: 2557.491223\n",
      "MAE: 36.329879\n",
      "RMSE: 50.571644\n",
      "MAPE: 18.055196\n",
      "\n",
      "#-------------------------------\n",
      "Comparison between groundtruth and the shifted y_array\n",
      "MSE: 2536.715789\n",
      "MAE: 35.620489\n",
      "RMSE: 50.365820\n",
      "MAPE: 0.678493\n"
     ]
    }
   ],
   "source": [
    "result, value_y_test, y_groundtruth, _ = create_test_arrays(X_test_tensors_final, df, best_model, mm)\n",
    "\n",
    "print(\"NN model is : \", model)\n",
    "print('\\n#-------------------------------')\n",
    "print('Comparison between the groundtruth and our predictions')\n",
    "(mse, mae, rmse, mape) = compute_metrics(y_groundtruth, result)\n",
    "days_1[str(model)] = (mse, mae, rmse, mape)\n",
    "\n",
    "print('\\n#-------------------------------')\n",
    "print('Comparison between groundtruth and the shifted y_array')\n",
    "_ = compute_metrics(y_groundtruth, value_y_test)"
   ]
  },
  {
   "cell_type": "code",
   "execution_count": 57,
   "metadata": {},
   "outputs": [
    {
     "name": "stdout",
     "output_type": "stream",
     "text": [
      "MSE: 852.753524\n",
      "MAE: 22.263734\n",
      "RMSE: 29.201944\n",
      "MAPE: 0.425347\n"
     ]
    }
   ],
   "source": [
    "# 3-day analysis \n",
    "result, value_y_test, y_groundtruth\n",
    "N = 3\n",
    "ret_N = create_N_day_mean(pd.Series(result), N)\n",
    "gt_N = create_N_day_mean(pd.Series(y_groundtruth), N)\n",
    "\n",
    "(mse, mae, rmse, mape) = compute_metrics(ret_N, gt_N)\n",
    "days_3[str(model)] = (mse, mae, rmse, mape)"
   ]
  },
  {
   "cell_type": "code",
   "execution_count": 58,
   "metadata": {},
   "outputs": [
    {
     "name": "stdout",
     "output_type": "stream",
     "text": [
      "MSE: 395.673764\n",
      "MAE: 15.474725\n",
      "RMSE: 19.891550\n",
      "MAPE: 0.293203\n"
     ]
    }
   ],
   "source": [
    "# 7-day analysis \n",
    "N = 7\n",
    "ret_N = create_N_day_mean(pd.Series(result), N)\n",
    "gt_N = create_N_day_mean(pd.Series(y_groundtruth), N)\n",
    "\n",
    "(mse, mae, rmse, mape) = compute_metrics(ret_N, gt_N)\n",
    "days_7[str(model)] = (mse, mae, rmse, mape)"
   ]
  },
  {
   "cell_type": "markdown",
   "metadata": {},
   "source": [
    "## Stacked LSTM"
   ]
  },
  {
   "cell_type": "code",
   "execution_count": 59,
   "metadata": {},
   "outputs": [
    {
     "name": "stdout",
     "output_type": "stream",
     "text": [
      "#-------------------------\n",
      "Now running model: Hidden-size 5,  lookback 1\n"
     ]
    },
    {
     "name": "stdout",
     "output_type": "stream",
     "text": [
      "Early stopping at epoch 19 with validation loss: 0.0021767954515270523\n",
      "#-------------------------\n",
      "Now running model: Hidden-size 15,  lookback 1\n",
      "Early stopping at epoch 12 with validation loss: 0.0021811704528972324\n",
      "#-------------------------\n",
      "Now running model: Hidden-size 30,  lookback 1\n",
      "Early stopping at epoch 16 with validation loss: 0.002189375417556886\n",
      "#-------------------------\n",
      "Now running model: Hidden-size 5,  lookback 5\n",
      "Early stopping at epoch 27 with validation loss: 0.002196950349593308\n",
      "#-------------------------\n",
      "Now running model: Hidden-size 15,  lookback 5\n",
      "Early stopping at epoch 27 with validation loss: 0.002197714193110786\n",
      "#-------------------------\n",
      "Now running model: Hidden-size 30,  lookback 5\n",
      "Early stopping at epoch 14 with validation loss: 0.002201005851952132\n",
      "#-------------------------\n",
      "Now running model: Hidden-size 5,  lookback 10\n",
      "Early stopping at epoch 12 with validation loss: 0.0022045704848473757\n",
      "#-------------------------\n",
      "Now running model: Hidden-size 15,  lookback 10\n",
      "Early stopping at epoch 11 with validation loss: 0.002211399685886757\n",
      "#-------------------------\n",
      "Now running model: Hidden-size 30,  lookback 10\n",
      "Early stopping at epoch 21 with validation loss: 0.0022238944160252266\n"
     ]
    }
   ],
   "source": [
    "#\n",
    "model = 'stackedlstm'\n",
    "\n",
    "best_params, best_historical_losses, best_val_loss, \\\n",
    "                        best_model, historical_losses = grid_search_model(X_mm, y_mm, model, **model_params)\n",
    "\n",
    "stackedlstm_dict = {\n",
    "    'best_params': best_params,\n",
    "    'best_historical_losses': best_historical_losses,\n",
    "    'best_val_loss': best_val_loss,\n",
    "    'best_model': best_model,\n",
    "    'historical_losses': historical_losses,\n",
    "}"
   ]
  },
  {
   "cell_type": "code",
   "execution_count": 60,
   "metadata": {},
   "outputs": [
    {
     "name": "stdout",
     "output_type": "stream",
     "text": [
      "NN model is :  stackedlstm\n",
      "\n",
      "#-------------------------------\n",
      "Comparison between the groundtruth and our predictions\n",
      "MSE: 2547.868632\n",
      "MAE: 35.794802\n",
      "RMSE: 50.476417\n",
      "MAPE: 18.062899\n",
      "\n",
      "#-------------------------------\n",
      "Comparison between groundtruth and the shifted y_array\n",
      "MSE: 2536.715789\n",
      "MAE: 35.620489\n",
      "RMSE: 50.365820\n",
      "MAPE: 0.678493\n"
     ]
    }
   ],
   "source": [
    "result, value_y_test, y_groundtruth, _ = create_test_arrays(X_test_tensors_final, df, best_model, mm)\n",
    "\n",
    "print(\"NN model is : \", model)\n",
    "print('\\n#-------------------------------')\n",
    "print('Comparison between the groundtruth and our predictions')\n",
    "(mse, mae, rmse, mape) = compute_metrics(y_groundtruth, result)\n",
    "days_1[str(model)] = (mse, mae, rmse, mape)\n",
    "\n",
    "print('\\n#-------------------------------')\n",
    "print('Comparison between groundtruth and the shifted y_array')\n",
    "_ = compute_metrics(y_groundtruth, value_y_test)"
   ]
  },
  {
   "cell_type": "code",
   "execution_count": 61,
   "metadata": {},
   "outputs": [
    {
     "name": "stdout",
     "output_type": "stream",
     "text": [
      "MSE: 826.873653\n",
      "MAE: 21.254411\n",
      "RMSE: 28.755411\n",
      "MAPE: 0.405600\n"
     ]
    }
   ],
   "source": [
    "# 3-day analysis \n",
    "result, value_y_test, y_groundtruth\n",
    "N = 3\n",
    "ret_N = create_N_day_mean(pd.Series(result), N)\n",
    "gt_N = create_N_day_mean(pd.Series(y_groundtruth), N)\n",
    "\n",
    "(mse, mae, rmse, mape) = compute_metrics(ret_N, gt_N)\n",
    "days_3[str(model)] = (mse, mae, rmse, mape)"
   ]
  },
  {
   "cell_type": "code",
   "execution_count": 62,
   "metadata": {},
   "outputs": [
    {
     "name": "stdout",
     "output_type": "stream",
     "text": [
      "MSE: 347.948347\n",
      "MAE: 14.010153\n",
      "RMSE: 18.653374\n",
      "MAPE: 0.265396\n"
     ]
    }
   ],
   "source": [
    "# 7-day analysis \n",
    "N = 7\n",
    "ret_N = create_N_day_mean(pd.Series(result), N)\n",
    "gt_N = create_N_day_mean(pd.Series(y_groundtruth), N)\n",
    "\n",
    "(mse, mae, rmse, mape) = compute_metrics(ret_N, gt_N)\n",
    "days_7[str(model)] = (mse, mae, rmse, mape)"
   ]
  },
  {
   "cell_type": "markdown",
   "metadata": {},
   "source": [
    "# Data aggregation"
   ]
  },
  {
   "cell_type": "code",
   "execution_count": 63,
   "metadata": {},
   "outputs": [],
   "source": [
    "# DICTS\n",
    "# days_1 = dict()\n",
    "# days_3 = dict()\n",
    "# days_7 = dict()"
   ]
  },
  {
   "cell_type": "code",
   "execution_count": 64,
   "metadata": {},
   "outputs": [],
   "source": [
    "days1df = pd.DataFrame(days_1, index=['mse', 'mae', 'rmse', 'mape'])\n",
    "days3df = pd.DataFrame(days_3, index=['mse', 'mae', 'rmse', 'mape'])\n",
    "days7df = pd.DataFrame(days_7, index=['mse', 'mae', 'rmse', 'mape'])"
   ]
  },
  {
   "cell_type": "code",
   "execution_count": 65,
   "metadata": {},
   "outputs": [
    {
     "data": {
      "text/html": [
       "<style type=\"text/css\">\n",
       "#T_31ba2_row0_col0, #T_31ba2_row1_col0, #T_31ba2_row2_col0, #T_31ba2_row3_col1 {\n",
       "  font-weight: bold;\n",
       "}\n",
       "#T_31ba2_row0_col4, #T_31ba2_row1_col4, #T_31ba2_row2_col4, #T_31ba2_row3_col3 {\n",
       "  text-decoration: underline;\n",
       "}\n",
       "</style>\n",
       "<table id=\"T_31ba2\">\n",
       "  <thead>\n",
       "    <tr>\n",
       "      <th class=\"blank level0\" >&nbsp;</th>\n",
       "      <th id=\"T_31ba2_level0_col0\" class=\"col_heading level0 col0\" >lstm</th>\n",
       "      <th id=\"T_31ba2_level0_col1\" class=\"col_heading level0 col1\" >rnn</th>\n",
       "      <th id=\"T_31ba2_level0_col2\" class=\"col_heading level0 col2\" >gru</th>\n",
       "      <th id=\"T_31ba2_level0_col3\" class=\"col_heading level0 col3\" >blstm</th>\n",
       "      <th id=\"T_31ba2_level0_col4\" class=\"col_heading level0 col4\" >stackedlstm</th>\n",
       "    </tr>\n",
       "  </thead>\n",
       "  <tbody>\n",
       "    <tr>\n",
       "      <th id=\"T_31ba2_level0_row0\" class=\"row_heading level0 row0\" >mse</th>\n",
       "      <td id=\"T_31ba2_row0_col0\" class=\"data row0 col0\" >2538.048141</td>\n",
       "      <td id=\"T_31ba2_row0_col1\" class=\"data row0 col1\" >2823.256396</td>\n",
       "      <td id=\"T_31ba2_row0_col2\" class=\"data row0 col2\" >2833.161433</td>\n",
       "      <td id=\"T_31ba2_row0_col3\" class=\"data row0 col3\" >2557.491223</td>\n",
       "      <td id=\"T_31ba2_row0_col4\" class=\"data row0 col4\" >2547.868632</td>\n",
       "    </tr>\n",
       "    <tr>\n",
       "      <th id=\"T_31ba2_level0_row1\" class=\"row_heading level0 row1\" >mae</th>\n",
       "      <td id=\"T_31ba2_row1_col0\" class=\"data row1 col0\" >35.603067</td>\n",
       "      <td id=\"T_31ba2_row1_col1\" class=\"data row1 col1\" >38.653617</td>\n",
       "      <td id=\"T_31ba2_row1_col2\" class=\"data row1 col2\" >38.014819</td>\n",
       "      <td id=\"T_31ba2_row1_col3\" class=\"data row1 col3\" >36.329879</td>\n",
       "      <td id=\"T_31ba2_row1_col4\" class=\"data row1 col4\" >35.794802</td>\n",
       "    </tr>\n",
       "    <tr>\n",
       "      <th id=\"T_31ba2_level0_row2\" class=\"row_heading level0 row2\" >rmse</th>\n",
       "      <td id=\"T_31ba2_row2_col0\" class=\"data row2 col0\" >50.379045</td>\n",
       "      <td id=\"T_31ba2_row2_col1\" class=\"data row2 col1\" >53.134324</td>\n",
       "      <td id=\"T_31ba2_row2_col2\" class=\"data row2 col2\" >53.227450</td>\n",
       "      <td id=\"T_31ba2_row2_col3\" class=\"data row2 col3\" >50.571644</td>\n",
       "      <td id=\"T_31ba2_row2_col4\" class=\"data row2 col4\" >50.476417</td>\n",
       "    </tr>\n",
       "    <tr>\n",
       "      <th id=\"T_31ba2_level0_row3\" class=\"row_heading level0 row3\" >mape</th>\n",
       "      <td id=\"T_31ba2_row3_col0\" class=\"data row3 col0\" >18.070072</td>\n",
       "      <td id=\"T_31ba2_row3_col1\" class=\"data row3 col1\" >18.054337</td>\n",
       "      <td id=\"T_31ba2_row3_col2\" class=\"data row3 col2\" >18.072461</td>\n",
       "      <td id=\"T_31ba2_row3_col3\" class=\"data row3 col3\" >18.055196</td>\n",
       "      <td id=\"T_31ba2_row3_col4\" class=\"data row3 col4\" >18.062899</td>\n",
       "    </tr>\n",
       "  </tbody>\n",
       "</table>\n"
      ],
      "text/plain": [
       "<pandas.io.formats.style.Styler at 0x7f43c81629e0>"
      ]
     },
     "execution_count": 65,
     "metadata": {},
     "output_type": "execute_result"
    }
   ],
   "source": [
    "def highlight_min_and_second_min(s):\n",
    "    sorted_vals = sorted(s)\n",
    "    min_val = sorted_vals[0]  # Get the lowest value in each row\n",
    "    second_min_val = sorted_vals[1]  # Get the second lowest value in each row\n",
    "    is_min = s == min_val\n",
    "    is_second_min = s == second_min_val\n",
    "    styles = ['font-weight: bold' if v else '' for v in is_min]\n",
    "    for i, v in enumerate(is_second_min):\n",
    "        if v:\n",
    "            styles[i] += 'text-decoration: underline'\n",
    "    return styles\n",
    "\n",
    "styled_df = days1df.style.apply(highlight_min_and_second_min, axis=1)\n",
    "\n",
    "# Display styled DataFrame\n",
    "styled_df"
   ]
  },
  {
   "cell_type": "code",
   "execution_count": 66,
   "metadata": {},
   "outputs": [
    {
     "data": {
      "text/html": [
       "<style type=\"text/css\">\n",
       "#T_2a33d_row0_col0, #T_2a33d_row1_col0, #T_2a33d_row2_col0, #T_2a33d_row3_col0 {\n",
       "  font-weight: bold;\n",
       "}\n",
       "#T_2a33d_row0_col4, #T_2a33d_row1_col4, #T_2a33d_row2_col4, #T_2a33d_row3_col4 {\n",
       "  text-decoration: underline;\n",
       "}\n",
       "</style>\n",
       "<table id=\"T_2a33d\">\n",
       "  <thead>\n",
       "    <tr>\n",
       "      <th class=\"blank level0\" >&nbsp;</th>\n",
       "      <th id=\"T_2a33d_level0_col0\" class=\"col_heading level0 col0\" >lstm</th>\n",
       "      <th id=\"T_2a33d_level0_col1\" class=\"col_heading level0 col1\" >rnn</th>\n",
       "      <th id=\"T_2a33d_level0_col2\" class=\"col_heading level0 col2\" >gru</th>\n",
       "      <th id=\"T_2a33d_level0_col3\" class=\"col_heading level0 col3\" >blstm</th>\n",
       "      <th id=\"T_2a33d_level0_col4\" class=\"col_heading level0 col4\" >stackedlstm</th>\n",
       "    </tr>\n",
       "  </thead>\n",
       "  <tbody>\n",
       "    <tr>\n",
       "      <th id=\"T_2a33d_level0_row0\" class=\"row_heading level0 row0\" >mse</th>\n",
       "      <td id=\"T_2a33d_row0_col0\" class=\"data row0 col0\" >797.302163</td>\n",
       "      <td id=\"T_2a33d_row0_col1\" class=\"data row0 col1\" >932.811240</td>\n",
       "      <td id=\"T_2a33d_row0_col2\" class=\"data row0 col2\" >911.320456</td>\n",
       "      <td id=\"T_2a33d_row0_col3\" class=\"data row0 col3\" >852.753524</td>\n",
       "      <td id=\"T_2a33d_row0_col4\" class=\"data row0 col4\" >826.873653</td>\n",
       "    </tr>\n",
       "    <tr>\n",
       "      <th id=\"T_2a33d_level0_row1\" class=\"row_heading level0 row1\" >mae</th>\n",
       "      <td id=\"T_2a33d_row1_col0\" class=\"data row1 col0\" >20.495981</td>\n",
       "      <td id=\"T_2a33d_row1_col1\" class=\"data row1 col1\" >23.617536</td>\n",
       "      <td id=\"T_2a33d_row1_col2\" class=\"data row1 col2\" >22.371204</td>\n",
       "      <td id=\"T_2a33d_row1_col3\" class=\"data row1 col3\" >22.263734</td>\n",
       "      <td id=\"T_2a33d_row1_col4\" class=\"data row1 col4\" >21.254411</td>\n",
       "    </tr>\n",
       "    <tr>\n",
       "      <th id=\"T_2a33d_level0_row2\" class=\"row_heading level0 row2\" >rmse</th>\n",
       "      <td id=\"T_2a33d_row2_col0\" class=\"data row2 col0\" >28.236540</td>\n",
       "      <td id=\"T_2a33d_row2_col1\" class=\"data row2 col1\" >30.541959</td>\n",
       "      <td id=\"T_2a33d_row2_col2\" class=\"data row2 col2\" >30.188085</td>\n",
       "      <td id=\"T_2a33d_row2_col3\" class=\"data row2 col3\" >29.201944</td>\n",
       "      <td id=\"T_2a33d_row2_col4\" class=\"data row2 col4\" >28.755411</td>\n",
       "    </tr>\n",
       "    <tr>\n",
       "      <th id=\"T_2a33d_level0_row3\" class=\"row_heading level0 row3\" >mape</th>\n",
       "      <td id=\"T_2a33d_row3_col0\" class=\"data row3 col0\" >0.391843</td>\n",
       "      <td id=\"T_2a33d_row3_col1\" class=\"data row3 col1\" >0.451389</td>\n",
       "      <td id=\"T_2a33d_row3_col2\" class=\"data row3 col2\" >0.427634</td>\n",
       "      <td id=\"T_2a33d_row3_col3\" class=\"data row3 col3\" >0.425347</td>\n",
       "      <td id=\"T_2a33d_row3_col4\" class=\"data row3 col4\" >0.405600</td>\n",
       "    </tr>\n",
       "  </tbody>\n",
       "</table>\n"
      ],
      "text/plain": [
       "<pandas.io.formats.style.Styler at 0x7f439448b430>"
      ]
     },
     "execution_count": 66,
     "metadata": {},
     "output_type": "execute_result"
    }
   ],
   "source": [
    "styled_df = days3df.style.apply(highlight_min_and_second_min, axis=1)\n",
    "\n",
    "# Display styled DataFrame\n",
    "styled_df"
   ]
  },
  {
   "cell_type": "code",
   "execution_count": 67,
   "metadata": {},
   "outputs": [
    {
     "data": {
      "text/html": [
       "<style type=\"text/css\">\n",
       "#T_d8cc6_row0_col0, #T_d8cc6_row1_col0, #T_d8cc6_row2_col0, #T_d8cc6_row3_col0 {\n",
       "  font-weight: bold;\n",
       "}\n",
       "#T_d8cc6_row0_col4, #T_d8cc6_row1_col4, #T_d8cc6_row2_col4, #T_d8cc6_row3_col4 {\n",
       "  text-decoration: underline;\n",
       "}\n",
       "</style>\n",
       "<table id=\"T_d8cc6\">\n",
       "  <thead>\n",
       "    <tr>\n",
       "      <th class=\"blank level0\" >&nbsp;</th>\n",
       "      <th id=\"T_d8cc6_level0_col0\" class=\"col_heading level0 col0\" >lstm</th>\n",
       "      <th id=\"T_d8cc6_level0_col1\" class=\"col_heading level0 col1\" >rnn</th>\n",
       "      <th id=\"T_d8cc6_level0_col2\" class=\"col_heading level0 col2\" >gru</th>\n",
       "      <th id=\"T_d8cc6_level0_col3\" class=\"col_heading level0 col3\" >blstm</th>\n",
       "      <th id=\"T_d8cc6_level0_col4\" class=\"col_heading level0 col4\" >stackedlstm</th>\n",
       "    </tr>\n",
       "  </thead>\n",
       "  <tbody>\n",
       "    <tr>\n",
       "      <th id=\"T_d8cc6_level0_row0\" class=\"row_heading level0 row0\" >mse</th>\n",
       "      <td id=\"T_d8cc6_row0_col0\" class=\"data row0 col0\" >304.103242</td>\n",
       "      <td id=\"T_d8cc6_row0_col1\" class=\"data row0 col1\" >449.008121</td>\n",
       "      <td id=\"T_d8cc6_row0_col2\" class=\"data row0 col2\" >429.168749</td>\n",
       "      <td id=\"T_d8cc6_row0_col3\" class=\"data row0 col3\" >395.673764</td>\n",
       "      <td id=\"T_d8cc6_row0_col4\" class=\"data row0 col4\" >347.948347</td>\n",
       "    </tr>\n",
       "    <tr>\n",
       "      <th id=\"T_d8cc6_level0_row1\" class=\"row_heading level0 row1\" >mae</th>\n",
       "      <td id=\"T_d8cc6_row1_col0\" class=\"data row1 col0\" >12.892552</td>\n",
       "      <td id=\"T_d8cc6_row1_col1\" class=\"data row1 col1\" >16.651774</td>\n",
       "      <td id=\"T_d8cc6_row1_col2\" class=\"data row1 col2\" >15.157051</td>\n",
       "      <td id=\"T_d8cc6_row1_col3\" class=\"data row1 col3\" >15.474725</td>\n",
       "      <td id=\"T_d8cc6_row1_col4\" class=\"data row1 col4\" >14.010153</td>\n",
       "    </tr>\n",
       "    <tr>\n",
       "      <th id=\"T_d8cc6_level0_row2\" class=\"row_heading level0 row2\" >rmse</th>\n",
       "      <td id=\"T_d8cc6_row2_col0\" class=\"data row2 col0\" >17.438556</td>\n",
       "      <td id=\"T_d8cc6_row2_col1\" class=\"data row2 col1\" >21.189812</td>\n",
       "      <td id=\"T_d8cc6_row2_col2\" class=\"data row2 col2\" >20.716388</td>\n",
       "      <td id=\"T_d8cc6_row2_col3\" class=\"data row2 col3\" >19.891550</td>\n",
       "      <td id=\"T_d8cc6_row2_col4\" class=\"data row2 col4\" >18.653374</td>\n",
       "    </tr>\n",
       "    <tr>\n",
       "      <th id=\"T_d8cc6_level0_row3\" class=\"row_heading level0 row3\" >mape</th>\n",
       "      <td id=\"T_d8cc6_row3_col0\" class=\"data row3 col0\" >0.244412</td>\n",
       "      <td id=\"T_d8cc6_row3_col1\" class=\"data row3 col1\" >0.315611</td>\n",
       "      <td id=\"T_d8cc6_row3_col2\" class=\"data row3 col2\" >0.286600</td>\n",
       "      <td id=\"T_d8cc6_row3_col3\" class=\"data row3 col3\" >0.293203</td>\n",
       "      <td id=\"T_d8cc6_row3_col4\" class=\"data row3 col4\" >0.265396</td>\n",
       "    </tr>\n",
       "  </tbody>\n",
       "</table>\n"
      ],
      "text/plain": [
       "<pandas.io.formats.style.Styler at 0x7f43c8162b90>"
      ]
     },
     "execution_count": 67,
     "metadata": {},
     "output_type": "execute_result"
    }
   ],
   "source": [
    "styled_df = days7df.style.apply(highlight_min_and_second_min, axis=1)\n",
    "\n",
    "# Display styled DataFrame\n",
    "styled_df"
   ]
  }
 ],
 "metadata": {
  "kernelspec": {
   "display_name": "kh_base",
   "language": "python",
   "name": "python3"
  },
  "language_info": {
   "codemirror_mode": {
    "name": "ipython",
    "version": 3
   },
   "file_extension": ".py",
   "mimetype": "text/x-python",
   "name": "python",
   "nbconvert_exporter": "python",
   "pygments_lexer": "ipython3",
   "version": "3.10.13"
  }
 },
 "nbformat": 4,
 "nbformat_minor": 2
}
